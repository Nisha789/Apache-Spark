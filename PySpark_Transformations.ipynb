{
  "nbformat": 4,
  "nbformat_minor": 0,
  "metadata": {
    "colab": {
      "provenance": [],
      "authorship_tag": "ABX9TyP8a7sK22d5hngozFfR5p/M"
    },
    "kernelspec": {
      "name": "python3",
      "display_name": "Python 3"
    },
    "language_info": {
      "name": "python"
    }
  },
  "cells": [
    {
      "cell_type": "code",
      "execution_count": 12,
      "metadata": {
        "colab": {
          "base_uri": "https://localhost:8080/"
        },
        "id": "sIjpjAMwDuQc",
        "outputId": "8ea257d5-4820-4c45-fff5-94c4bbe7c9e5"
      },
      "outputs": [
        {
          "output_type": "stream",
          "name": "stdout",
          "text": [
            "Requirement already satisfied: pyspark in /usr/local/lib/python3.10/dist-packages (3.5.3)\n",
            "Requirement already satisfied: py4j==0.10.9.7 in /usr/local/lib/python3.10/dist-packages (from pyspark) (0.10.9.7)\n"
          ]
        }
      ],
      "source": [
        "!pip install pyspark"
      ]
    },
    {
      "cell_type": "code",
      "source": [
        "from pyspark.sql import SparkSession\n",
        "from pyspark.sql.types import *\n",
        "from datetime import datetime"
      ],
      "metadata": {
        "id": "iKqI_aqBFz06"
      },
      "execution_count": 13,
      "outputs": []
    },
    {
      "cell_type": "code",
      "source": [
        "# Create Spark Session\n",
        "spark = SparkSession.builder\\\n",
        "        .appName(\"Spark\")\\\n",
        "        .enableHiveSupport()\\\n",
        "        .getOrCreate()"
      ],
      "metadata": {
        "id": "qYMSWpETHga_"
      },
      "execution_count": 14,
      "outputs": []
    },
    {
      "cell_type": "code",
      "source": [
        "# Hardcoded data\n",
        "data = [\n",
        "    [\"Product A\", 1001, datetime.strptime(\"2023-07-20\", \"%Y-%m-%d\"), datetime.strptime(\"2023-07-20 10:15:30\", \"%Y-%m-%d %H:%M:%S\"), 29.99],\n",
        "    [\"Product B\", 1002, datetime.strptime(\"2023-07-19\", \"%Y-%m-%d\"), datetime.strptime(\"2023-07-19 14:20:45\", \"%Y-%m-%d %H:%M:%S\"), 49.99],\n",
        "    [\"Product C\", 1003, datetime.strptime(\"2023-07-18\", \"%Y-%m-%d\"), datetime.strptime(\"2023-07-18 09:30:15\", \"%Y-%m-%d %H:%M:%S\"), 39.99],\n",
        "    [\"Product D\", 1004, datetime.strptime(\"2023-07-17\", \"%Y-%m-%d\"), datetime.strptime(\"2023-07-17 16:45:00\", \"%Y-%m-%d %H:%M:%S\"), 19.99]\n",
        "]"
      ],
      "metadata": {
        "id": "kAIhPUX-ICvf"
      },
      "execution_count": 15,
      "outputs": []
    },
    {
      "cell_type": "code",
      "source": [
        "# Define Schema\n",
        "schema = StructType([\n",
        "    StructField(\"Product\",StringType(),True),\n",
        "    StructField(\"ID\",IntegerType(),True),\n",
        "    StructField(\"Date\",DateType(),True),\n",
        "    StructField(\"Timestamp\",TimestampType(),True),\n",
        "    StructField(\"Price\",FloatType(),True)\n",
        "])"
      ],
      "metadata": {
        "id": "TTPpz63yIk00"
      },
      "execution_count": 16,
      "outputs": []
    },
    {
      "cell_type": "code",
      "source": [
        "# Create Dataframe\n",
        "df = spark.createDataFrame(data,schema)\n",
        "\n",
        "# Print schema\n",
        "df.printSchema()\n",
        "\n",
        "# Print data\n",
        "df.show()"
      ],
      "metadata": {
        "colab": {
          "base_uri": "https://localhost:8080/"
        },
        "id": "Z_DdoevcJiOl",
        "outputId": "fdf554f5-9656-49cf-f1e3-5d78ade7a9c3"
      },
      "execution_count": 17,
      "outputs": [
        {
          "output_type": "stream",
          "name": "stdout",
          "text": [
            "root\n",
            " |-- Product: string (nullable = true)\n",
            " |-- ID: integer (nullable = true)\n",
            " |-- Date: date (nullable = true)\n",
            " |-- Timestamp: timestamp (nullable = true)\n",
            " |-- Price: float (nullable = true)\n",
            "\n",
            "+---------+----+----------+-------------------+-----+\n",
            "|  Product|  ID|      Date|          Timestamp|Price|\n",
            "+---------+----+----------+-------------------+-----+\n",
            "|Product A|1001|2023-07-20|2023-07-20 10:15:30|29.99|\n",
            "|Product B|1002|2023-07-19|2023-07-19 14:20:45|49.99|\n",
            "|Product C|1003|2023-07-18|2023-07-18 09:30:15|39.99|\n",
            "|Product D|1004|2023-07-17|2023-07-17 16:45:00|19.99|\n",
            "+---------+----+----------+-------------------+-----+\n",
            "\n"
          ]
        }
      ]
    },
    {
      "cell_type": "code",
      "source": [
        "# First read example should not infer schema, igonre header row, provide explicit column name and datatype\n",
        "\n",
        "# Define schema\n",
        "schema = StructType([\n",
        "    StructField(\"order_id\",StringType(),True),\n",
        "    StructField(\"order_item_id\",IntegerType(),True),\n",
        "    StructField(\"product_id\",StringType(),True),\n",
        "    StructField(\"seller_id\",StringType(),True),\n",
        "    StructField(\"shopping_limit_date\",TimestampType(),True),\n",
        "    StructField(\"price\",DoubleType(),True),\n",
        "    StructField(\"freight_value\",DoubleType(),True)\n",
        "])\n",
        "\n",
        "path = \"/content/order_items_dataset.csv\"\n",
        "df = spark.read.format(\"csv\").option(\"header\",\"true\").option(\"inferSchema\",\"false\").schema(schema).load(path)\n",
        "\n",
        "df.printSchema()\n",
        "\n",
        "df.show(5)"
      ],
      "metadata": {
        "colab": {
          "base_uri": "https://localhost:8080/"
        },
        "id": "gcr0aeOzKcC8",
        "outputId": "c336640f-f599-4778-d3e8-72e09d54633e"
      },
      "execution_count": 18,
      "outputs": [
        {
          "output_type": "stream",
          "name": "stdout",
          "text": [
            "root\n",
            " |-- order_id: string (nullable = true)\n",
            " |-- order_item_id: integer (nullable = true)\n",
            " |-- product_id: string (nullable = true)\n",
            " |-- seller_id: string (nullable = true)\n",
            " |-- shopping_limit_date: timestamp (nullable = true)\n",
            " |-- price: double (nullable = true)\n",
            " |-- freight_value: double (nullable = true)\n",
            "\n",
            "+--------------------+-------------+--------------------+--------------------+-------------------+-----+-------------+\n",
            "|            order_id|order_item_id|          product_id|           seller_id|shopping_limit_date|price|freight_value|\n",
            "+--------------------+-------------+--------------------+--------------------+-------------------+-----+-------------+\n",
            "|00010242fe8c5a6d1...|            1|4244733e06e7ecb49...|48436dade18ac8b2b...|2017-09-19 09:45:35| 58.9|        13.29|\n",
            "|00018f77f2f0320c5...|            1|e5f2d52b802189ee6...|dd7ddc04e1b6c2c61...|2017-05-03 11:05:13|239.9|        19.93|\n",
            "|000229ec398224ef6...|            1|c777355d18b72b67a...|5b51032eddd242adc...|2018-01-18 14:48:30|199.0|        17.87|\n",
            "|00024acbcdf0a6daa...|            1|7634da152a4610f15...|9d7a1d34a50524090...|2018-08-15 10:10:18|12.99|        12.79|\n",
            "|00042b26cf59d7ce6...|            1|ac6c3623068f30de0...|df560393f3a51e745...|2017-02-13 13:57:51|199.9|        18.14|\n",
            "+--------------------+-------------+--------------------+--------------------+-------------------+-----+-------------+\n",
            "only showing top 5 rows\n",
            "\n"
          ]
        }
      ]
    },
    {
      "cell_type": "code",
      "source": [
        "# Second read example should infer schema, ignore header row\n",
        "df2 = spark.read.format(\"csv\").option(\"header\",\"true\").option(\"inferSchema\",\"true\").load(path)\n",
        "\n",
        "# print schema and sample data\n",
        "df2.printSchema()\n",
        "df2.show(5)"
      ],
      "metadata": {
        "colab": {
          "base_uri": "https://localhost:8080/"
        },
        "id": "0tBGqGRcM7kq",
        "outputId": "5670b084-36b3-4151-cb21-b112f4537ac6"
      },
      "execution_count": 19,
      "outputs": [
        {
          "output_type": "stream",
          "name": "stdout",
          "text": [
            "root\n",
            " |-- order_id: string (nullable = true)\n",
            " |-- order_item_id: integer (nullable = true)\n",
            " |-- product_id: string (nullable = true)\n",
            " |-- seller_id: string (nullable = true)\n",
            " |-- shipping_limit_date: timestamp (nullable = true)\n",
            " |-- price: double (nullable = true)\n",
            " |-- freight_value: double (nullable = true)\n",
            "\n",
            "+--------------------+-------------+--------------------+--------------------+-------------------+-----+-------------+\n",
            "|            order_id|order_item_id|          product_id|           seller_id|shipping_limit_date|price|freight_value|\n",
            "+--------------------+-------------+--------------------+--------------------+-------------------+-----+-------------+\n",
            "|00010242fe8c5a6d1...|            1|4244733e06e7ecb49...|48436dade18ac8b2b...|2017-09-19 09:45:35| 58.9|        13.29|\n",
            "|00018f77f2f0320c5...|            1|e5f2d52b802189ee6...|dd7ddc04e1b6c2c61...|2017-05-03 11:05:13|239.9|        19.93|\n",
            "|000229ec398224ef6...|            1|c777355d18b72b67a...|5b51032eddd242adc...|2018-01-18 14:48:30|199.0|        17.87|\n",
            "|00024acbcdf0a6daa...|            1|7634da152a4610f15...|9d7a1d34a50524090...|2018-08-15 10:10:18|12.99|        12.79|\n",
            "|00042b26cf59d7ce6...|            1|ac6c3623068f30de0...|df560393f3a51e745...|2017-02-13 13:57:51|199.9|        18.14|\n",
            "+--------------------+-------------+--------------------+--------------------+-------------------+-----+-------------+\n",
            "only showing top 5 rows\n",
            "\n"
          ]
        }
      ]
    },
    {
      "cell_type": "code",
      "source": [
        "# Number of partitions\n",
        "print(f\"Number of partitions: {df2.rdd.getNumPartitions()}\")\n",
        "\n",
        "df3 = df2.repartition(10)\n",
        "\n",
        "# Number of partitions after repartition\n",
        "print(f\"Number of partitions after repartition: {df3.rdd.getNumPartitions()}\")"
      ],
      "metadata": {
        "colab": {
          "base_uri": "https://localhost:8080/"
        },
        "id": "_WMCGJQ-NivG",
        "outputId": "13c07b44-8615-4f44-c648-6f0edb9e2dab"
      },
      "execution_count": 20,
      "outputs": [
        {
          "output_type": "stream",
          "name": "stdout",
          "text": [
            "Number of partitions: 2\n",
            "Number of partitions after repartition: 10\n"
          ]
        }
      ]
    },
    {
      "cell_type": "code",
      "source": [
        "# Select columns in different options\n",
        "from pyspark.sql.functions import *\n",
        "\n",
        "df3.select(\"order_id\").show(5)\n",
        "df3.select(\"order_id\",\"shipping_limit_date\").show(5)\n",
        "df3.select(col(\"order_id\"),col(\"shipping_limit_date\")).show(5)\n",
        "df3.select(col(\"order_id\").alias(\"ord_id\"),col(\"shipping_limit_date\").alias(\"limit_date\")).show(5)"
      ],
      "metadata": {
        "colab": {
          "base_uri": "https://localhost:8080/"
        },
        "id": "ITtWzWYpO44r",
        "outputId": "2aaf41ac-7555-48ef-a682-8c80ec77ddf7"
      },
      "execution_count": 21,
      "outputs": [
        {
          "output_type": "stream",
          "name": "stdout",
          "text": [
            "+--------------------+\n",
            "|            order_id|\n",
            "+--------------------+\n",
            "|6299bb8e855289b41...|\n",
            "|71fbb9971d84bf97a...|\n",
            "|74322a01b770c2ea3...|\n",
            "|a23fc2b3af4f1a48e...|\n",
            "|747af114bbea56ac1...|\n",
            "+--------------------+\n",
            "only showing top 5 rows\n",
            "\n",
            "+--------------------+-------------------+\n",
            "|            order_id|shipping_limit_date|\n",
            "+--------------------+-------------------+\n",
            "|3bbf8f927f288e4a1...|2017-11-09 14:25:38|\n",
            "|50c40cfcbb6ce3fca...|2018-06-14 09:52:04|\n",
            "|51c3d73e0e9052253...|2018-02-22 19:15:27|\n",
            "|183ee0e3ebd4c1c99...|2018-02-07 20:14:08|\n",
            "|3a1400b5d4dd3082a...|2018-03-27 17:28:20|\n",
            "+--------------------+-------------------+\n",
            "only showing top 5 rows\n",
            "\n",
            "+--------------------+-------------------+\n",
            "|            order_id|shipping_limit_date|\n",
            "+--------------------+-------------------+\n",
            "|3bbf8f927f288e4a1...|2017-11-09 14:25:38|\n",
            "|50c40cfcbb6ce3fca...|2018-06-14 09:52:04|\n",
            "|51c3d73e0e9052253...|2018-02-22 19:15:27|\n",
            "|183ee0e3ebd4c1c99...|2018-02-07 20:14:08|\n",
            "|3a1400b5d4dd3082a...|2018-03-27 17:28:20|\n",
            "+--------------------+-------------------+\n",
            "only showing top 5 rows\n",
            "\n",
            "+--------------------+-------------------+\n",
            "|              ord_id|         limit_date|\n",
            "+--------------------+-------------------+\n",
            "|3bbf8f927f288e4a1...|2017-11-09 14:25:38|\n",
            "|50c40cfcbb6ce3fca...|2018-06-14 09:52:04|\n",
            "|51c3d73e0e9052253...|2018-02-22 19:15:27|\n",
            "|183ee0e3ebd4c1c99...|2018-02-07 20:14:08|\n",
            "|3a1400b5d4dd3082a...|2018-03-27 17:28:20|\n",
            "+--------------------+-------------------+\n",
            "only showing top 5 rows\n",
            "\n"
          ]
        }
      ]
    },
    {
      "cell_type": "code",
      "source": [
        "# Derive new column using withColumn\n",
        "df4 = df3.withColumn(\"year\",year(col(\"shipping_limit_date\")))\\\n",
        "          .withColumn(\"month\",month(col(\"shipping_limit_date\")))\n",
        "\n",
        "df4.select(\"order_id\",\"shipping_limit_date\",\"year\",\"month\").show(5)"
      ],
      "metadata": {
        "colab": {
          "base_uri": "https://localhost:8080/"
        },
        "id": "fZCPVyNSP9sl",
        "outputId": "3c2795b0-3d9d-4f9d-ad51-92515fdea5fa"
      },
      "execution_count": 28,
      "outputs": [
        {
          "output_type": "stream",
          "name": "stdout",
          "text": [
            "+--------------------+-------------------+----+-----+\n",
            "|            order_id|shipping_limit_date|year|month|\n",
            "+--------------------+-------------------+----+-----+\n",
            "|3bbf8f927f288e4a1...|2017-11-09 14:25:38|2017|   11|\n",
            "|50c40cfcbb6ce3fca...|2018-06-14 09:52:04|2018|    6|\n",
            "|51c3d73e0e9052253...|2018-02-22 19:15:27|2018|    2|\n",
            "|183ee0e3ebd4c1c99...|2018-02-07 20:14:08|2018|    2|\n",
            "|3a1400b5d4dd3082a...|2018-03-27 17:28:20|2018|    3|\n",
            "+--------------------+-------------------+----+-----+\n",
            "only showing top 5 rows\n",
            "\n"
          ]
        }
      ]
    },
    {
      "cell_type": "code",
      "source": [
        "# Rename existing column using withColumnRenamed\n",
        "df5 = df4.withColumnRenamed(\"shipping_limit_date\",\"shipping_limit_datetime\")\n",
        "df5.select(\"order_id\",\"shipping_limit_datetime\").show(5)"
      ],
      "metadata": {
        "colab": {
          "base_uri": "https://localhost:8080/"
        },
        "id": "TFWx7NlTQiAW",
        "outputId": "2a530c94-1f74-4138-b25e-d5282db1781c"
      },
      "execution_count": 23,
      "outputs": [
        {
          "output_type": "stream",
          "name": "stdout",
          "text": [
            "+--------------------+-----------------------+\n",
            "|            order_id|shipping_limit_datetime|\n",
            "+--------------------+-----------------------+\n",
            "|3bbf8f927f288e4a1...|    2017-11-09 14:25:38|\n",
            "|50c40cfcbb6ce3fca...|    2018-06-14 09:52:04|\n",
            "|51c3d73e0e9052253...|    2018-02-22 19:15:27|\n",
            "|183ee0e3ebd4c1c99...|    2018-02-07 20:14:08|\n",
            "|3a1400b5d4dd3082a...|    2018-03-27 17:28:20|\n",
            "+--------------------+-----------------------+\n",
            "only showing top 5 rows\n",
            "\n"
          ]
        }
      ]
    },
    {
      "cell_type": "code",
      "source": [
        "# Filter condition\n",
        "df5.filter(col(\"order_id\") == '00010242fe8c5a6d1ba2dd792cb16214').show()\n",
        "\n",
        "order_li = ['00010242fe8c5a6d1ba2dd792cb16214','00018f77f2f0320c557190d7a144bdd3']\n",
        "df5.filter(col(\"order_id\").isin(order_li)).show(5)\n",
        "\n",
        "df5.filter((col(\"price\")<50) & (col(\"freight_value\") < 10)).show(5)\n",
        "\n",
        "# SQL Type expression\n",
        "df5.filter(\"price < 50 and freight_value < 10\").show(5)\n"
      ],
      "metadata": {
        "colab": {
          "base_uri": "https://localhost:8080/"
        },
        "id": "Z7aLmcBKvPzv",
        "outputId": "9cf0f28a-8a71-49d6-f744-bcd7a3ce2ee8"
      },
      "execution_count": 26,
      "outputs": [
        {
          "output_type": "stream",
          "name": "stdout",
          "text": [
            "+--------------------+-------------+--------------------+--------------------+-----------------------+-----+-------------+----+-----+\n",
            "|            order_id|order_item_id|          product_id|           seller_id|shipping_limit_datetime|price|freight_value|year|month|\n",
            "+--------------------+-------------+--------------------+--------------------+-----------------------+-----+-------------+----+-----+\n",
            "|00010242fe8c5a6d1...|            1|4244733e06e7ecb49...|48436dade18ac8b2b...|    2017-09-19 09:45:35| 58.9|        13.29|2017|    9|\n",
            "+--------------------+-------------+--------------------+--------------------+-----------------------+-----+-------------+----+-----+\n",
            "\n",
            "+--------------------+-------------+--------------------+--------------------+-----------------------+-----+-------------+----+-----+\n",
            "|            order_id|order_item_id|          product_id|           seller_id|shipping_limit_datetime|price|freight_value|year|month|\n",
            "+--------------------+-------------+--------------------+--------------------+-----------------------+-----+-------------+----+-----+\n",
            "|00010242fe8c5a6d1...|            1|4244733e06e7ecb49...|48436dade18ac8b2b...|    2017-09-19 09:45:35| 58.9|        13.29|2017|    9|\n",
            "|00018f77f2f0320c5...|            1|e5f2d52b802189ee6...|dd7ddc04e1b6c2c61...|    2017-05-03 11:05:13|239.9|        19.93|2017|    5|\n",
            "+--------------------+-------------+--------------------+--------------------+-----------------------+-----+-------------+----+-----+\n",
            "\n",
            "+--------------------+-------------+--------------------+--------------------+-----------------------+-----+-------------+----+-----+\n",
            "|            order_id|order_item_id|          product_id|           seller_id|shipping_limit_datetime|price|freight_value|year|month|\n",
            "+--------------------+-------------+--------------------+--------------------+-----------------------+-----+-------------+----+-----+\n",
            "|363524b17966c3a64...|            2|43ee88561093499d9...|23613d49c3ac2bd30...|    2018-05-24 22:35:14| 10.9|          3.8|2018|    5|\n",
            "|1d9609dad08db33f3...|            1|7cc67695a7648efc5...|95e03ca3d4146e401...|    2017-12-11 18:10:31|29.99|          8.9|2017|   12|\n",
            "|50aff4b82439e01c5...|            1|ec1faa2edc27ce323...|cc419e0650a3c5ba7...|    2017-11-23 21:53:21|29.99|         7.78|2017|   11|\n",
            "|37ee401157a3a0b28...|            9|d34c07a2d817ac73f...|e7d5b006eb624f130...|    2018-04-19 02:30:52|29.99|         7.39|2018|    4|\n",
            "|8f5fac100b291e3c7...|            1|0e996644bf2835621...|b4ffb71f0cb1b1c3d...|    2017-12-08 09:13:27| 6.84|         7.78|2017|   12|\n",
            "+--------------------+-------------+--------------------+--------------------+-----------------------+-----+-------------+----+-----+\n",
            "only showing top 5 rows\n",
            "\n",
            "+--------------------+-------------+--------------------+--------------------+-----------------------+-----+-------------+----+-----+\n",
            "|            order_id|order_item_id|          product_id|           seller_id|shipping_limit_datetime|price|freight_value|year|month|\n",
            "+--------------------+-------------+--------------------+--------------------+-----------------------+-----+-------------+----+-----+\n",
            "|363524b17966c3a64...|            2|43ee88561093499d9...|23613d49c3ac2bd30...|    2018-05-24 22:35:14| 10.9|          3.8|2018|    5|\n",
            "|1d9609dad08db33f3...|            1|7cc67695a7648efc5...|95e03ca3d4146e401...|    2017-12-11 18:10:31|29.99|          8.9|2017|   12|\n",
            "|50aff4b82439e01c5...|            1|ec1faa2edc27ce323...|cc419e0650a3c5ba7...|    2017-11-23 21:53:21|29.99|         7.78|2017|   11|\n",
            "|37ee401157a3a0b28...|            9|d34c07a2d817ac73f...|e7d5b006eb624f130...|    2018-04-19 02:30:52|29.99|         7.39|2018|    4|\n",
            "|8f5fac100b291e3c7...|            1|0e996644bf2835621...|b4ffb71f0cb1b1c3d...|    2017-12-08 09:13:27| 6.84|         7.78|2017|   12|\n",
            "+--------------------+-------------+--------------------+--------------------+-----------------------+-----+-------------+----+-----+\n",
            "only showing top 5 rows\n",
            "\n"
          ]
        }
      ]
    },
    {
      "cell_type": "code",
      "source": [
        "# Example for drop duplicates on multiple columns\n",
        "\n",
        "df5.drop(\"month\").show(5)"
      ],
      "metadata": {
        "colab": {
          "base_uri": "https://localhost:8080/"
        },
        "id": "yZVgr-52wUSc",
        "outputId": "ff2eaa6a-d3b0-4fe1-fe09-48bfe66f4413"
      },
      "execution_count": 32,
      "outputs": [
        {
          "output_type": "stream",
          "name": "stdout",
          "text": [
            "+--------------------+-------------+--------------------+--------------------+-----------------------+------+-------------+----+\n",
            "|            order_id|order_item_id|          product_id|           seller_id|shipping_limit_datetime| price|freight_value|year|\n",
            "+--------------------+-------------+--------------------+--------------------+-----------------------+------+-------------+----+\n",
            "|1e1bb536916a99649...|            2|0288f8dd74b931b4e...|1da3aeb70d7989d1e...|    2017-09-05 12:10:11| 49.99|        21.15|2017|\n",
            "|62a0e822dd605871a...|            1|31dbb0d1815bdc83c...|6da1992f915d77be9...|    2017-06-08 11:50:18|  29.0|        15.79|2017|\n",
            "|025c72e88fbf2358b...|            2|bef21943bc2335188...|e49c26c3edfa46d22...|    2017-03-21 21:24:27|  19.9|         20.8|2017|\n",
            "|23d16dddab46fd3d0...|            1|cca8e09ba6f2d35e4...|43f8c9950d11ecd03...|    2018-01-31 22:17:51|109.99|        14.52|2018|\n",
            "|71c0d1686c9b55563...|            2|eb6c2ecde53034fc9...|1025f0e2d44d7041d...|    2017-12-01 19:31:45| 32.99|        16.11|2017|\n",
            "+--------------------+-------------+--------------------+--------------------+-----------------------+------+-------------+----+\n",
            "only showing top 5 rows\n",
            "\n"
          ]
        }
      ]
    },
    {
      "cell_type": "code",
      "source": [
        "# drop duplicates row based on multiple columns\n",
        "df5.dropDuplicates(['order_id','order_item_id']).show(5)"
      ],
      "metadata": {
        "colab": {
          "base_uri": "https://localhost:8080/"
        },
        "id": "cNIlaYB3xC0P",
        "outputId": "96abd5f3-1812-4497-d7a3-7aca47e0cf1b"
      },
      "execution_count": 33,
      "outputs": [
        {
          "output_type": "stream",
          "name": "stdout",
          "text": [
            "+--------------------+-------------+--------------------+--------------------+-----------------------+------+-------------+----+-----+\n",
            "|            order_id|order_item_id|          product_id|           seller_id|shipping_limit_datetime| price|freight_value|year|month|\n",
            "+--------------------+-------------+--------------------+--------------------+-----------------------+------+-------------+----+-----+\n",
            "|00018f77f2f0320c5...|            1|e5f2d52b802189ee6...|dd7ddc04e1b6c2c61...|    2017-05-03 11:05:13| 239.9|        19.93|2017|    5|\n",
            "|00042b26cf59d7ce6...|            1|ac6c3623068f30de0...|df560393f3a51e745...|    2017-02-13 13:57:51| 199.9|        18.14|2017|    2|\n",
            "|0005a1a1728c9d785...|            1|310ae3c140ff94b03...|a416b6a846a117243...|    2018-03-26 18:31:29|145.95|        11.65|2018|    3|\n",
            "|00061f2a7bc09da83...|            1|d63c1011f49d98b97...|cc419e0650a3c5ba7...|    2018-03-29 22:28:09| 59.99|         8.88|2018|    3|\n",
            "|00063b381e2406b52...|            1|f177554ea93259a5b...|8602a61d680a10a82...|    2018-07-31 17:30:39|  45.0|        12.98|2018|    7|\n",
            "+--------------------+-------------+--------------------+--------------------+-----------------------+------+-------------+----+-----+\n",
            "only showing top 5 rows\n",
            "\n"
          ]
        }
      ]
    },
    {
      "cell_type": "code",
      "source": [
        "# get distinct rows\n",
        "df5.distinct().show(5)\n",
        "\n",
        "df5.dropDuplicates().show(5)"
      ],
      "metadata": {
        "colab": {
          "base_uri": "https://localhost:8080/"
        },
        "id": "pc0ojMOyxWXC",
        "outputId": "de50e192-8d1b-423d-d1e2-1ef0dd6786e2"
      },
      "execution_count": 35,
      "outputs": [
        {
          "output_type": "stream",
          "name": "stdout",
          "text": [
            "+--------------------+-------------+--------------------+--------------------+-----------------------+-----+-------------+----+-----+\n",
            "|            order_id|order_item_id|          product_id|           seller_id|shipping_limit_datetime|price|freight_value|year|month|\n",
            "+--------------------+-------------+--------------------+--------------------+-----------------------+-----+-------------+----+-----+\n",
            "|9459fe4630e1165c1...|            2|8db00478f9801fc2f...|8a32e327fe2c1b351...|    2017-11-28 10:51:06|12.99|         9.34|2017|   11|\n",
            "|3fb11bd2ea68c2502...|            1|f908d3bf313a1308b...|25e6ffe976bd75618...|    2017-12-07 13:11:22| 35.0|        11.85|2017|   12|\n",
            "|18ed848509774f56c...|            1|309dd69eb83cea38c...|0b35c634521043bf4...|    2018-02-09 13:30:39|49.99|         15.1|2018|    2|\n",
            "|0f3f4f23f10a3e4ef...|            1|bb42f37fc3d9130e4...|da8622b14eb17ae28...|    2018-04-12 19:09:20| 44.9|        18.23|2018|    4|\n",
            "|9b482241f75217c3e...|            1|74706845a60b5ad45...|f5a590cf36251cf11...|    2017-11-22 02:46:43|899.0|        54.82|2017|   11|\n",
            "+--------------------+-------------+--------------------+--------------------+-----------------------+-----+-------------+----+-----+\n",
            "only showing top 5 rows\n",
            "\n",
            "+--------------------+-------------+--------------------+--------------------+-----------------------+-----+-------------+----+-----+\n",
            "|            order_id|order_item_id|          product_id|           seller_id|shipping_limit_datetime|price|freight_value|year|month|\n",
            "+--------------------+-------------+--------------------+--------------------+-----------------------+-----+-------------+----+-----+\n",
            "|9459fe4630e1165c1...|            2|8db00478f9801fc2f...|8a32e327fe2c1b351...|    2017-11-28 10:51:06|12.99|         9.34|2017|   11|\n",
            "|3fb11bd2ea68c2502...|            1|f908d3bf313a1308b...|25e6ffe976bd75618...|    2017-12-07 13:11:22| 35.0|        11.85|2017|   12|\n",
            "|18ed848509774f56c...|            1|309dd69eb83cea38c...|0b35c634521043bf4...|    2018-02-09 13:30:39|49.99|         15.1|2018|    2|\n",
            "|0f3f4f23f10a3e4ef...|            1|bb42f37fc3d9130e4...|da8622b14eb17ae28...|    2018-04-12 19:09:20| 44.9|        18.23|2018|    4|\n",
            "|9b482241f75217c3e...|            1|74706845a60b5ad45...|f5a590cf36251cf11...|    2017-11-22 02:46:43|899.0|        54.82|2017|   11|\n",
            "+--------------------+-------------+--------------------+--------------------+-----------------------+-----+-------------+----+-----+\n",
            "only showing top 5 rows\n",
            "\n"
          ]
        }
      ]
    }
  ]
}