{
  "nbformat": 4,
  "nbformat_minor": 0,
  "metadata": {
    "colab": {
      "provenance": [],
      "authorship_tag": "ABX9TyO/MPG1LsP7f1O5LAlusDOi"
    },
    "kernelspec": {
      "name": "python3",
      "display_name": "Python 3"
    },
    "language_info": {
      "name": "python"
    }
  },
  "cells": [
    {
      "cell_type": "code",
      "execution_count": 1,
      "metadata": {
        "colab": {
          "base_uri": "https://localhost:8080/"
        },
        "id": "sIjpjAMwDuQc",
        "outputId": "d87588ff-8dc1-427b-926c-0aee4d364d4f"
      },
      "outputs": [
        {
          "output_type": "stream",
          "name": "stdout",
          "text": [
            "Requirement already satisfied: pyspark in /usr/local/lib/python3.10/dist-packages (3.5.3)\n",
            "Requirement already satisfied: py4j==0.10.9.7 in /usr/local/lib/python3.10/dist-packages (from pyspark) (0.10.9.7)\n"
          ]
        }
      ],
      "source": [
        "!pip install pyspark"
      ]
    },
    {
      "cell_type": "code",
      "source": [
        "from pyspark.sql import SparkSession\n",
        "from pyspark.sql.types import *\n",
        "from datetime import datetime"
      ],
      "metadata": {
        "id": "iKqI_aqBFz06"
      },
      "execution_count": 2,
      "outputs": []
    },
    {
      "cell_type": "code",
      "source": [
        "# Create Spark Session\n",
        "spark = SparkSession.builder\\\n",
        "        .appName(\"Spark\")\\\n",
        "        .enableHiveSupport()\\\n",
        "        .getOrCreate()"
      ],
      "metadata": {
        "id": "qYMSWpETHga_"
      },
      "execution_count": 3,
      "outputs": []
    },
    {
      "cell_type": "code",
      "source": [
        "# Hardcoded data\n",
        "data = [\n",
        "    [\"Product A\", 1001, datetime.strptime(\"2023-07-20\", \"%Y-%m-%d\"), datetime.strptime(\"2023-07-20 10:15:30\", \"%Y-%m-%d %H:%M:%S\"), 29.99],\n",
        "    [\"Product B\", 1002, datetime.strptime(\"2023-07-19\", \"%Y-%m-%d\"), datetime.strptime(\"2023-07-19 14:20:45\", \"%Y-%m-%d %H:%M:%S\"), 49.99],\n",
        "    [\"Product C\", 1003, datetime.strptime(\"2023-07-18\", \"%Y-%m-%d\"), datetime.strptime(\"2023-07-18 09:30:15\", \"%Y-%m-%d %H:%M:%S\"), 39.99],\n",
        "    [\"Product D\", 1004, datetime.strptime(\"2023-07-17\", \"%Y-%m-%d\"), datetime.strptime(\"2023-07-17 16:45:00\", \"%Y-%m-%d %H:%M:%S\"), 19.99]\n",
        "]"
      ],
      "metadata": {
        "id": "kAIhPUX-ICvf"
      },
      "execution_count": 4,
      "outputs": []
    },
    {
      "cell_type": "code",
      "source": [
        "# Define Schema\n",
        "schema = StructType([\n",
        "    StructField(\"Product\",StringType(),True),\n",
        "    StructField(\"ID\",IntegerType(),True),\n",
        "    StructField(\"Date\",DateType(),True),\n",
        "    StructField(\"Timestamp\",TimestampType(),True),\n",
        "    StructField(\"Price\",FloatType(),True)\n",
        "])"
      ],
      "metadata": {
        "id": "TTPpz63yIk00"
      },
      "execution_count": 5,
      "outputs": []
    },
    {
      "cell_type": "code",
      "source": [
        "# Create Dataframe\n",
        "df = spark.createDataFrame(data,schema)\n",
        "\n",
        "# Print schema\n",
        "df.printSchema()\n",
        "\n",
        "# Print data\n",
        "df.show()"
      ],
      "metadata": {
        "colab": {
          "base_uri": "https://localhost:8080/"
        },
        "id": "Z_DdoevcJiOl",
        "outputId": "892b19da-06b3-45ec-e65d-4c4e3f31e54b"
      },
      "execution_count": 7,
      "outputs": [
        {
          "output_type": "stream",
          "name": "stdout",
          "text": [
            "root\n",
            " |-- Product: string (nullable = true)\n",
            " |-- ID: integer (nullable = true)\n",
            " |-- Date: date (nullable = true)\n",
            " |-- Timestamp: timestamp (nullable = true)\n",
            " |-- Price: float (nullable = true)\n",
            "\n",
            "+---------+----+----------+-------------------+-----+\n",
            "|  Product|  ID|      Date|          Timestamp|Price|\n",
            "+---------+----+----------+-------------------+-----+\n",
            "|Product A|1001|2023-07-20|2023-07-20 10:15:30|29.99|\n",
            "|Product B|1002|2023-07-19|2023-07-19 14:20:45|49.99|\n",
            "|Product C|1003|2023-07-18|2023-07-18 09:30:15|39.99|\n",
            "|Product D|1004|2023-07-17|2023-07-17 16:45:00|19.99|\n",
            "+---------+----+----------+-------------------+-----+\n",
            "\n"
          ]
        }
      ]
    },
    {
      "cell_type": "code",
      "source": [
        "# First read example should not infer schema, igonre header row, provide explicit column name and datatype\n",
        "\n",
        "# Define schema\n",
        "schema = StructType([\n",
        "    StructField(\"order_id\",StringType(),True),\n",
        "    StructField(\"order_item_id\",IntegerType(),True),\n",
        "    StructField(\"product_id\",StringType(),True),\n",
        "    StructField(\"seller_id\",StringType(),True),\n",
        "    StructField(\"shopping_limit_date\",TimestampType(),True),\n",
        "    StructField(\"price\",DoubleType(),True),\n",
        "    StructField(\"freight_value\",DoubleType(),True)\n",
        "])\n",
        "\n",
        "path = \"/content/order_items_dataset.csv\"\n",
        "df = spark.read.format(\"csv\").option(\"header\",\"true\").option(\"inferSchema\",\"false\").schema(schema).load(path)\n",
        "\n",
        "df.printSchema()\n",
        "\n",
        "df.show(5)"
      ],
      "metadata": {
        "colab": {
          "base_uri": "https://localhost:8080/"
        },
        "id": "gcr0aeOzKcC8",
        "outputId": "7f4f24fe-ca2f-4ae1-96ee-3eaa7ac69203"
      },
      "execution_count": 8,
      "outputs": [
        {
          "output_type": "stream",
          "name": "stdout",
          "text": [
            "root\n",
            " |-- order_id: string (nullable = true)\n",
            " |-- order_item_id: integer (nullable = true)\n",
            " |-- product_id: string (nullable = true)\n",
            " |-- seller_id: string (nullable = true)\n",
            " |-- shopping_limit_date: timestamp (nullable = true)\n",
            " |-- price: double (nullable = true)\n",
            " |-- freight_value: double (nullable = true)\n",
            "\n",
            "+--------------------+-------------+--------------------+--------------------+-------------------+-----+-------------+\n",
            "|            order_id|order_item_id|          product_id|           seller_id|shopping_limit_date|price|freight_value|\n",
            "+--------------------+-------------+--------------------+--------------------+-------------------+-----+-------------+\n",
            "|00010242fe8c5a6d1...|            1|4244733e06e7ecb49...|48436dade18ac8b2b...|2017-09-19 09:45:35| 58.9|        13.29|\n",
            "|00018f77f2f0320c5...|            1|e5f2d52b802189ee6...|dd7ddc04e1b6c2c61...|2017-05-03 11:05:13|239.9|        19.93|\n",
            "|000229ec398224ef6...|            1|c777355d18b72b67a...|5b51032eddd242adc...|2018-01-18 14:48:30|199.0|        17.87|\n",
            "|00024acbcdf0a6daa...|            1|7634da152a4610f15...|9d7a1d34a50524090...|2018-08-15 10:10:18|12.99|        12.79|\n",
            "|00042b26cf59d7ce6...|            1|ac6c3623068f30de0...|df560393f3a51e745...|2017-02-13 13:57:51|199.9|        18.14|\n",
            "+--------------------+-------------+--------------------+--------------------+-------------------+-----+-------------+\n",
            "only showing top 5 rows\n",
            "\n"
          ]
        }
      ]
    },
    {
      "cell_type": "code",
      "source": [
        "# Second read example should infer schema, ignore header row\n",
        "df2 = spark.read.format(\"csv\").option(\"header\",\"true\").option(\"inferSchema\",\"true\").load(path)\n",
        "\n",
        "# print schema and sample data\n",
        "df2.printSchema()\n",
        "df2.show(5)"
      ],
      "metadata": {
        "colab": {
          "base_uri": "https://localhost:8080/"
        },
        "id": "0tBGqGRcM7kq",
        "outputId": "7ba588cf-566c-4b6c-d997-ad3083fdc065"
      },
      "execution_count": 9,
      "outputs": [
        {
          "output_type": "stream",
          "name": "stdout",
          "text": [
            "root\n",
            " |-- order_id: string (nullable = true)\n",
            " |-- order_item_id: integer (nullable = true)\n",
            " |-- product_id: string (nullable = true)\n",
            " |-- seller_id: string (nullable = true)\n",
            " |-- shipping_limit_date: timestamp (nullable = true)\n",
            " |-- price: double (nullable = true)\n",
            " |-- freight_value: double (nullable = true)\n",
            "\n",
            "+--------------------+-------------+--------------------+--------------------+-------------------+-----+-------------+\n",
            "|            order_id|order_item_id|          product_id|           seller_id|shipping_limit_date|price|freight_value|\n",
            "+--------------------+-------------+--------------------+--------------------+-------------------+-----+-------------+\n",
            "|00010242fe8c5a6d1...|            1|4244733e06e7ecb49...|48436dade18ac8b2b...|2017-09-19 09:45:35| 58.9|        13.29|\n",
            "|00018f77f2f0320c5...|            1|e5f2d52b802189ee6...|dd7ddc04e1b6c2c61...|2017-05-03 11:05:13|239.9|        19.93|\n",
            "|000229ec398224ef6...|            1|c777355d18b72b67a...|5b51032eddd242adc...|2018-01-18 14:48:30|199.0|        17.87|\n",
            "|00024acbcdf0a6daa...|            1|7634da152a4610f15...|9d7a1d34a50524090...|2018-08-15 10:10:18|12.99|        12.79|\n",
            "|00042b26cf59d7ce6...|            1|ac6c3623068f30de0...|df560393f3a51e745...|2017-02-13 13:57:51|199.9|        18.14|\n",
            "+--------------------+-------------+--------------------+--------------------+-------------------+-----+-------------+\n",
            "only showing top 5 rows\n",
            "\n"
          ]
        }
      ]
    },
    {
      "cell_type": "code",
      "source": [
        "# Number of partitions\n",
        "print(f\"Number of partitions: {df2.rdd.getNumPartitions()}\")\n",
        "\n",
        "df3 = df2.repartition(10)\n",
        "\n",
        "# Number of partitions after repartition\n",
        "print(f\"Number of partitions after repartition: {df3.rdd.getNumPartitions()}\")"
      ],
      "metadata": {
        "colab": {
          "base_uri": "https://localhost:8080/"
        },
        "id": "_WMCGJQ-NivG",
        "outputId": "700e9f6b-3757-4bd2-8c0b-173d0efeb38e"
      },
      "execution_count": 11,
      "outputs": [
        {
          "output_type": "stream",
          "name": "stdout",
          "text": [
            "Number of partitions: 2\n",
            "Number of partitions after repartition: 10\n"
          ]
        }
      ]
    },
    {
      "cell_type": "code",
      "source": [
        "# Select columns in different options\n",
        "from pyspark.sql.functions import *\n",
        "\n",
        "df3.select(\"order_id\").show(5)\n",
        "df3.select(\"order_id\",\"shipping_limit_date\").show(5)\n",
        "df3.select(col(\"order_id\"),col(\"shipping_limit_date\")).show(5)\n",
        "df3.select(col(\"order_id\").alias(\"ord_id\"),col(\"shipping_limit_date\").alias(\"limit_date\")).show(5)"
      ],
      "metadata": {
        "colab": {
          "base_uri": "https://localhost:8080/"
        },
        "id": "ITtWzWYpO44r",
        "outputId": "97022ea2-8f74-494c-fefc-f817ab465e61"
      },
      "execution_count": 13,
      "outputs": [
        {
          "output_type": "stream",
          "name": "stdout",
          "text": [
            "+--------------------+\n",
            "|            order_id|\n",
            "+--------------------+\n",
            "|6299bb8e855289b41...|\n",
            "|71fbb9971d84bf97a...|\n",
            "|74322a01b770c2ea3...|\n",
            "|a23fc2b3af4f1a48e...|\n",
            "|747af114bbea56ac1...|\n",
            "+--------------------+\n",
            "only showing top 5 rows\n",
            "\n",
            "+--------------------+-------------------+\n",
            "|            order_id|shipping_limit_date|\n",
            "+--------------------+-------------------+\n",
            "|3bbf8f927f288e4a1...|2017-11-09 14:25:38|\n",
            "|50c40cfcbb6ce3fca...|2018-06-14 09:52:04|\n",
            "|51c3d73e0e9052253...|2018-02-22 19:15:27|\n",
            "|183ee0e3ebd4c1c99...|2018-02-07 20:14:08|\n",
            "|3a1400b5d4dd3082a...|2018-03-27 17:28:20|\n",
            "+--------------------+-------------------+\n",
            "only showing top 5 rows\n",
            "\n",
            "+--------------------+-------------------+\n",
            "|            order_id|shipping_limit_date|\n",
            "+--------------------+-------------------+\n",
            "|3bbf8f927f288e4a1...|2017-11-09 14:25:38|\n",
            "|50c40cfcbb6ce3fca...|2018-06-14 09:52:04|\n",
            "|51c3d73e0e9052253...|2018-02-22 19:15:27|\n",
            "|183ee0e3ebd4c1c99...|2018-02-07 20:14:08|\n",
            "|3a1400b5d4dd3082a...|2018-03-27 17:28:20|\n",
            "+--------------------+-------------------+\n",
            "only showing top 5 rows\n",
            "\n",
            "+--------------------+-------------------+\n",
            "|              ord_id|         limit_date|\n",
            "+--------------------+-------------------+\n",
            "|3bbf8f927f288e4a1...|2017-11-09 14:25:38|\n",
            "|50c40cfcbb6ce3fca...|2018-06-14 09:52:04|\n",
            "|51c3d73e0e9052253...|2018-02-22 19:15:27|\n",
            "|183ee0e3ebd4c1c99...|2018-02-07 20:14:08|\n",
            "|3a1400b5d4dd3082a...|2018-03-27 17:28:20|\n",
            "+--------------------+-------------------+\n",
            "only showing top 5 rows\n",
            "\n"
          ]
        }
      ]
    },
    {
      "cell_type": "code",
      "source": [
        "# Derive new column using withColumn\n",
        "df4 = df3.withColumn(\"year\",year(col(\"shipping_limit_date\")))\\\n",
        "          .withColumn(\"month\",month(col(\"shipping_limit_date\")))\n",
        "\n",
        "df4.select(\"order_id\",\"shipping_limit_date\",\"year\",\"month\").show(5)"
      ],
      "metadata": {
        "colab": {
          "base_uri": "https://localhost:8080/"
        },
        "id": "fZCPVyNSP9sl",
        "outputId": "5cb1666f-14a4-446a-9e50-097e3e41a3c0"
      },
      "execution_count": 14,
      "outputs": [
        {
          "output_type": "stream",
          "name": "stdout",
          "text": [
            "+--------------------+-------------------+----+-----+\n",
            "|            order_id|shipping_limit_date|year|month|\n",
            "+--------------------+-------------------+----+-----+\n",
            "|3bbf8f927f288e4a1...|2017-11-09 14:25:38|2017|   11|\n",
            "|50c40cfcbb6ce3fca...|2018-06-14 09:52:04|2018|    6|\n",
            "|51c3d73e0e9052253...|2018-02-22 19:15:27|2018|    2|\n",
            "|183ee0e3ebd4c1c99...|2018-02-07 20:14:08|2018|    2|\n",
            "|3a1400b5d4dd3082a...|2018-03-27 17:28:20|2018|    3|\n",
            "+--------------------+-------------------+----+-----+\n",
            "only showing top 5 rows\n",
            "\n"
          ]
        }
      ]
    },
    {
      "cell_type": "code",
      "source": [
        "# Rename existing column using withColumnRenamed\n",
        "df5 = df4.withColumnRenamed(\"shipping_limit_date\",\"shipping_limit_datetime\")\n",
        "df5.select(\"order_id\",\"shipping_limit_datetime\").show(5)"
      ],
      "metadata": {
        "colab": {
          "base_uri": "https://localhost:8080/"
        },
        "id": "TFWx7NlTQiAW",
        "outputId": "db32cfec-31d8-41a8-a106-1a7c92ee4f5f"
      },
      "execution_count": 15,
      "outputs": [
        {
          "output_type": "stream",
          "name": "stdout",
          "text": [
            "+--------------------+-----------------------+\n",
            "|            order_id|shipping_limit_datetime|\n",
            "+--------------------+-----------------------+\n",
            "|3bbf8f927f288e4a1...|    2017-11-09 14:25:38|\n",
            "|50c40cfcbb6ce3fca...|    2018-06-14 09:52:04|\n",
            "|51c3d73e0e9052253...|    2018-02-22 19:15:27|\n",
            "|183ee0e3ebd4c1c99...|    2018-02-07 20:14:08|\n",
            "|3a1400b5d4dd3082a...|    2018-03-27 17:28:20|\n",
            "+--------------------+-----------------------+\n",
            "only showing top 5 rows\n",
            "\n"
          ]
        }
      ]
    }
  ]
}