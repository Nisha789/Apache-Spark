{
  "nbformat": 4,
  "nbformat_minor": 0,
  "metadata": {
    "colab": {
      "provenance": [],
      "authorship_tag": "ABX9TyMMARGAUc5/uzxVbwfEoJPK"
    },
    "kernelspec": {
      "name": "python3",
      "display_name": "Python 3"
    },
    "language_info": {
      "name": "python"
    }
  },
  "cells": [
    {
      "cell_type": "code",
      "execution_count": 9,
      "metadata": {
        "colab": {
          "base_uri": "https://localhost:8080/"
        },
        "id": "sIjpjAMwDuQc",
        "outputId": "9dbc4f5a-7836-457c-ce28-1ce9d9e0701e"
      },
      "outputs": [
        {
          "output_type": "stream",
          "name": "stdout",
          "text": [
            "Requirement already satisfied: pyspark in /usr/local/lib/python3.10/dist-packages (3.5.3)\n",
            "Requirement already satisfied: py4j==0.10.9.7 in /usr/local/lib/python3.10/dist-packages (from pyspark) (0.10.9.7)\n"
          ]
        }
      ],
      "source": [
        "!pip install pyspark"
      ]
    },
    {
      "cell_type": "code",
      "source": [
        "from pyspark.sql import SparkSession\n",
        "from pyspark.sql.types import *\n",
        "from datetime import datetime"
      ],
      "metadata": {
        "id": "iKqI_aqBFz06"
      },
      "execution_count": 10,
      "outputs": []
    },
    {
      "cell_type": "code",
      "source": [
        "# Create Spark Session\n",
        "spark = SparkSession.builder\\\n",
        "        .appName(\"Spark\")\\\n",
        "        .enableHiveSupport()\\\n",
        "        .getOrCreate()"
      ],
      "metadata": {
        "id": "qYMSWpETHga_"
      },
      "execution_count": 11,
      "outputs": []
    },
    {
      "cell_type": "code",
      "source": [
        "# Hardcoded data\n",
        "data = [\n",
        "    [\"Product A\", 1001, datetime.strptime(\"2023-07-20\", \"%Y-%m-%d\"), datetime.strptime(\"2023-07-20 10:15:30\", \"%Y-%m-%d %H:%M:%S\"), 29.99],\n",
        "    [\"Product B\", 1002, datetime.strptime(\"2023-07-19\", \"%Y-%m-%d\"), datetime.strptime(\"2023-07-19 14:20:45\", \"%Y-%m-%d %H:%M:%S\"), 49.99],\n",
        "    [\"Product C\", 1003, datetime.strptime(\"2023-07-18\", \"%Y-%m-%d\"), datetime.strptime(\"2023-07-18 09:30:15\", \"%Y-%m-%d %H:%M:%S\"), 39.99],\n",
        "    [\"Product D\", 1004, datetime.strptime(\"2023-07-17\", \"%Y-%m-%d\"), datetime.strptime(\"2023-07-17 16:45:00\", \"%Y-%m-%d %H:%M:%S\"), 19.99]\n",
        "]"
      ],
      "metadata": {
        "id": "kAIhPUX-ICvf"
      },
      "execution_count": 12,
      "outputs": []
    },
    {
      "cell_type": "code",
      "source": [
        "# Define Schema\n",
        "schema = StructType([\n",
        "    StructField(\"Product\",StringType(),True),\n",
        "    StructField(\"ID\",IntegerType(),True),\n",
        "    StructField(\"Date\",DateType(),True),\n",
        "    StructField(\"Timestamp\",TimestampType(),True),\n",
        "    StructField(\"Price\",FloatType(),True)\n",
        "])"
      ],
      "metadata": {
        "id": "TTPpz63yIk00"
      },
      "execution_count": 13,
      "outputs": []
    },
    {
      "cell_type": "code",
      "source": [
        "# Create Dataframe\n",
        "df = spark.createDataFrame(data,schema)\n",
        "\n",
        "# Print schema\n",
        "df.printSchema()\n",
        "\n",
        "# Print data\n",
        "df.show()"
      ],
      "metadata": {
        "colab": {
          "base_uri": "https://localhost:8080/"
        },
        "id": "Z_DdoevcJiOl",
        "outputId": "4bdce591-2dc2-4098-dbe7-56c55d770775"
      },
      "execution_count": 14,
      "outputs": [
        {
          "output_type": "stream",
          "name": "stdout",
          "text": [
            "root\n",
            " |-- Product: string (nullable = true)\n",
            " |-- ID: integer (nullable = true)\n",
            " |-- Date: date (nullable = true)\n",
            " |-- Timestamp: timestamp (nullable = true)\n",
            " |-- Price: float (nullable = true)\n",
            "\n",
            "+---------+----+----------+-------------------+-----+\n",
            "|  Product|  ID|      Date|          Timestamp|Price|\n",
            "+---------+----+----------+-------------------+-----+\n",
            "|Product A|1001|2023-07-20|2023-07-20 10:15:30|29.99|\n",
            "|Product B|1002|2023-07-19|2023-07-19 14:20:45|49.99|\n",
            "|Product C|1003|2023-07-18|2023-07-18 09:30:15|39.99|\n",
            "|Product D|1004|2023-07-17|2023-07-17 16:45:00|19.99|\n",
            "+---------+----+----------+-------------------+-----+\n",
            "\n"
          ]
        }
      ]
    },
    {
      "cell_type": "code",
      "source": [
        "# First read example should not infer schema, igonre header row, provide explicit column name and datatype\n",
        "\n",
        "# Define schema\n",
        "schema = StructType([\n",
        "    StructField(\"order_id\",StringType(),True),\n",
        "    StructField(\"order_item_id\",IntegerType(),True),\n",
        "    StructField(\"product_id\",StringType(),True),\n",
        "    StructField(\"seller_id\",StringType(),True),\n",
        "    StructField(\"shopping_limit_date\",TimestampType(),True),\n",
        "    StructField(\"price\",DoubleType(),True),\n",
        "    StructField(\"freight_value\",DoubleType(),True)\n",
        "])\n",
        "\n",
        "path = \"/content/order_items_dataset.csv\"\n",
        "df = spark.read.format(\"csv\").option(\"header\",\"true\").option(\"inferSchema\",\"false\").schema(schema).load(path)\n",
        "\n",
        "df.printSchema()\n",
        "\n",
        "df.show(5)"
      ],
      "metadata": {
        "colab": {
          "base_uri": "https://localhost:8080/"
        },
        "id": "gcr0aeOzKcC8",
        "outputId": "f3b889ac-ffaa-4f44-c045-1edfe53b0903"
      },
      "execution_count": 15,
      "outputs": [
        {
          "output_type": "stream",
          "name": "stdout",
          "text": [
            "root\n",
            " |-- order_id: string (nullable = true)\n",
            " |-- order_item_id: integer (nullable = true)\n",
            " |-- product_id: string (nullable = true)\n",
            " |-- seller_id: string (nullable = true)\n",
            " |-- shopping_limit_date: timestamp (nullable = true)\n",
            " |-- price: double (nullable = true)\n",
            " |-- freight_value: double (nullable = true)\n",
            "\n",
            "+--------------------+-------------+--------------------+--------------------+-------------------+-----+-------------+\n",
            "|            order_id|order_item_id|          product_id|           seller_id|shopping_limit_date|price|freight_value|\n",
            "+--------------------+-------------+--------------------+--------------------+-------------------+-----+-------------+\n",
            "|00010242fe8c5a6d1...|            1|4244733e06e7ecb49...|48436dade18ac8b2b...|2017-09-19 09:45:35| 58.9|        13.29|\n",
            "|00018f77f2f0320c5...|            1|e5f2d52b802189ee6...|dd7ddc04e1b6c2c61...|2017-05-03 11:05:13|239.9|        19.93|\n",
            "|000229ec398224ef6...|            1|c777355d18b72b67a...|5b51032eddd242adc...|2018-01-18 14:48:30|199.0|        17.87|\n",
            "|00024acbcdf0a6daa...|            1|7634da152a4610f15...|9d7a1d34a50524090...|2018-08-15 10:10:18|12.99|        12.79|\n",
            "|00042b26cf59d7ce6...|            1|ac6c3623068f30de0...|df560393f3a51e745...|2017-02-13 13:57:51|199.9|        18.14|\n",
            "+--------------------+-------------+--------------------+--------------------+-------------------+-----+-------------+\n",
            "only showing top 5 rows\n",
            "\n"
          ]
        }
      ]
    },
    {
      "cell_type": "code",
      "source": [
        "# Second read example should infer schema, ignore header row\n",
        "df2 = spark.read.format(\"csv\").option(\"header\",\"true\").option(\"inferSchema\",\"true\").load(path)\n",
        "\n",
        "# print schema and sample data\n",
        "df2.printSchema()\n",
        "df2.show(5)"
      ],
      "metadata": {
        "colab": {
          "base_uri": "https://localhost:8080/"
        },
        "id": "0tBGqGRcM7kq",
        "outputId": "1d301028-68a1-43e4-ace1-8ab4e59136f6"
      },
      "execution_count": 16,
      "outputs": [
        {
          "output_type": "stream",
          "name": "stdout",
          "text": [
            "root\n",
            " |-- order_id: string (nullable = true)\n",
            " |-- order_item_id: integer (nullable = true)\n",
            " |-- product_id: string (nullable = true)\n",
            " |-- seller_id: string (nullable = true)\n",
            " |-- shipping_limit_date: timestamp (nullable = true)\n",
            " |-- price: double (nullable = true)\n",
            " |-- freight_value: double (nullable = true)\n",
            "\n",
            "+--------------------+-------------+--------------------+--------------------+-------------------+-----+-------------+\n",
            "|            order_id|order_item_id|          product_id|           seller_id|shipping_limit_date|price|freight_value|\n",
            "+--------------------+-------------+--------------------+--------------------+-------------------+-----+-------------+\n",
            "|00010242fe8c5a6d1...|            1|4244733e06e7ecb49...|48436dade18ac8b2b...|2017-09-19 09:45:35| 58.9|        13.29|\n",
            "|00018f77f2f0320c5...|            1|e5f2d52b802189ee6...|dd7ddc04e1b6c2c61...|2017-05-03 11:05:13|239.9|        19.93|\n",
            "|000229ec398224ef6...|            1|c777355d18b72b67a...|5b51032eddd242adc...|2018-01-18 14:48:30|199.0|        17.87|\n",
            "|00024acbcdf0a6daa...|            1|7634da152a4610f15...|9d7a1d34a50524090...|2018-08-15 10:10:18|12.99|        12.79|\n",
            "|00042b26cf59d7ce6...|            1|ac6c3623068f30de0...|df560393f3a51e745...|2017-02-13 13:57:51|199.9|        18.14|\n",
            "+--------------------+-------------+--------------------+--------------------+-------------------+-----+-------------+\n",
            "only showing top 5 rows\n",
            "\n"
          ]
        }
      ]
    },
    {
      "cell_type": "code",
      "source": [
        "# Number of partitions\n",
        "print(f\"Number of partitions: {df2.rdd.getNumPartitions()}\")\n",
        "\n",
        "df3 = df2.repartition(10)\n",
        "\n",
        "# Number of partitions after repartition\n",
        "print(f\"Number of partitions after repartition: {df3.rdd.getNumPartitions()}\")"
      ],
      "metadata": {
        "colab": {
          "base_uri": "https://localhost:8080/"
        },
        "id": "_WMCGJQ-NivG",
        "outputId": "7f025f38-05d0-4290-ff53-2b2443382b51"
      },
      "execution_count": 17,
      "outputs": [
        {
          "output_type": "stream",
          "name": "stdout",
          "text": [
            "Number of partitions: 2\n",
            "Number of partitions after repartition: 10\n"
          ]
        }
      ]
    },
    {
      "cell_type": "code",
      "source": [
        "# Select columns in different options\n",
        "from pyspark.sql.functions import *\n",
        "\n",
        "df3.select(\"order_id\").show(5)\n",
        "df3.select(\"order_id\",\"shipping_limit_date\").show(5)\n",
        "df3.select(col(\"order_id\"),col(\"shipping_limit_date\")).show(5)\n",
        "df3.select(col(\"order_id\").alias(\"ord_id\"),col(\"shipping_limit_date\").alias(\"limit_date\")).show(5)"
      ],
      "metadata": {
        "colab": {
          "base_uri": "https://localhost:8080/"
        },
        "id": "ITtWzWYpO44r",
        "outputId": "5f95e921-ee0e-41fd-c512-ad872aec2464"
      },
      "execution_count": 18,
      "outputs": [
        {
          "output_type": "stream",
          "name": "stdout",
          "text": [
            "+--------------------+\n",
            "|            order_id|\n",
            "+--------------------+\n",
            "|6299bb8e855289b41...|\n",
            "|71fbb9971d84bf97a...|\n",
            "|74322a01b770c2ea3...|\n",
            "|a23fc2b3af4f1a48e...|\n",
            "|747af114bbea56ac1...|\n",
            "+--------------------+\n",
            "only showing top 5 rows\n",
            "\n",
            "+--------------------+-------------------+\n",
            "|            order_id|shipping_limit_date|\n",
            "+--------------------+-------------------+\n",
            "|3bbf8f927f288e4a1...|2017-11-09 14:25:38|\n",
            "|50c40cfcbb6ce3fca...|2018-06-14 09:52:04|\n",
            "|51c3d73e0e9052253...|2018-02-22 19:15:27|\n",
            "|183ee0e3ebd4c1c99...|2018-02-07 20:14:08|\n",
            "|3a1400b5d4dd3082a...|2018-03-27 17:28:20|\n",
            "+--------------------+-------------------+\n",
            "only showing top 5 rows\n",
            "\n",
            "+--------------------+-------------------+\n",
            "|            order_id|shipping_limit_date|\n",
            "+--------------------+-------------------+\n",
            "|3bbf8f927f288e4a1...|2017-11-09 14:25:38|\n",
            "|50c40cfcbb6ce3fca...|2018-06-14 09:52:04|\n",
            "|51c3d73e0e9052253...|2018-02-22 19:15:27|\n",
            "|183ee0e3ebd4c1c99...|2018-02-07 20:14:08|\n",
            "|3a1400b5d4dd3082a...|2018-03-27 17:28:20|\n",
            "+--------------------+-------------------+\n",
            "only showing top 5 rows\n",
            "\n",
            "+--------------------+-------------------+\n",
            "|              ord_id|         limit_date|\n",
            "+--------------------+-------------------+\n",
            "|3bbf8f927f288e4a1...|2017-11-09 14:25:38|\n",
            "|50c40cfcbb6ce3fca...|2018-06-14 09:52:04|\n",
            "|51c3d73e0e9052253...|2018-02-22 19:15:27|\n",
            "|183ee0e3ebd4c1c99...|2018-02-07 20:14:08|\n",
            "|3a1400b5d4dd3082a...|2018-03-27 17:28:20|\n",
            "+--------------------+-------------------+\n",
            "only showing top 5 rows\n",
            "\n"
          ]
        }
      ]
    },
    {
      "cell_type": "code",
      "source": [
        "# Derive new column using withColumn\n",
        "df4 = df3.withColumn(\"year\",year(col(\"shipping_limit_date\")))\\\n",
        "          .withColumn(\"month\",month(col(\"shipping_limit_date\")))\n",
        "\n",
        "df4.select(\"order_id\",\"shipping_limit_date\",\"year\",\"month\").show(5)"
      ],
      "metadata": {
        "colab": {
          "base_uri": "https://localhost:8080/"
        },
        "id": "fZCPVyNSP9sl",
        "outputId": "e842949f-b322-4c84-da28-25e4df591f78"
      },
      "execution_count": 19,
      "outputs": [
        {
          "output_type": "stream",
          "name": "stdout",
          "text": [
            "+--------------------+-------------------+----+-----+\n",
            "|            order_id|shipping_limit_date|year|month|\n",
            "+--------------------+-------------------+----+-----+\n",
            "|3bbf8f927f288e4a1...|2017-11-09 14:25:38|2017|   11|\n",
            "|50c40cfcbb6ce3fca...|2018-06-14 09:52:04|2018|    6|\n",
            "|51c3d73e0e9052253...|2018-02-22 19:15:27|2018|    2|\n",
            "|183ee0e3ebd4c1c99...|2018-02-07 20:14:08|2018|    2|\n",
            "|3a1400b5d4dd3082a...|2018-03-27 17:28:20|2018|    3|\n",
            "+--------------------+-------------------+----+-----+\n",
            "only showing top 5 rows\n",
            "\n"
          ]
        }
      ]
    },
    {
      "cell_type": "code",
      "source": [
        "# Rename existing column using withColumnRenamed\n",
        "df5 = df4.withColumnRenamed(\"shipping_limit_date\",\"shipping_limit_datetime\")\n",
        "df5.select(\"order_id\",\"shipping_limit_datetime\").show(5)"
      ],
      "metadata": {
        "colab": {
          "base_uri": "https://localhost:8080/"
        },
        "id": "TFWx7NlTQiAW",
        "outputId": "f199d40f-742f-4a48-9bf5-bb7a23624a5a"
      },
      "execution_count": 20,
      "outputs": [
        {
          "output_type": "stream",
          "name": "stdout",
          "text": [
            "+--------------------+-----------------------+\n",
            "|            order_id|shipping_limit_datetime|\n",
            "+--------------------+-----------------------+\n",
            "|3bbf8f927f288e4a1...|    2017-11-09 14:25:38|\n",
            "|50c40cfcbb6ce3fca...|    2018-06-14 09:52:04|\n",
            "|51c3d73e0e9052253...|    2018-02-22 19:15:27|\n",
            "|183ee0e3ebd4c1c99...|    2018-02-07 20:14:08|\n",
            "|3a1400b5d4dd3082a...|    2018-03-27 17:28:20|\n",
            "+--------------------+-----------------------+\n",
            "only showing top 5 rows\n",
            "\n"
          ]
        }
      ]
    },
    {
      "cell_type": "code",
      "source": [
        "# Filter condition\n",
        "df5.filter(col(\"order_id\") == '00010242fe8c5a6d1ba2dd792cb16214').show()\n",
        "\n",
        "order_li = ['00010242fe8c5a6d1ba2dd792cb16214','00018f77f2f0320c557190d7a144bdd3']\n",
        "df5.filter(col(\"order_id\").isin(order_li)).show(5)\n",
        "\n",
        "df5.filter((col(\"price\")<50) & (col(\"freight_value\") < 10)).show(5)\n",
        "\n",
        "# SQL Type expression\n",
        "df5.filter(\"price < 50 and freight_value < 10\").show(5)\n"
      ],
      "metadata": {
        "colab": {
          "base_uri": "https://localhost:8080/"
        },
        "id": "Z7aLmcBKvPzv",
        "outputId": "f8d73529-1523-42c7-f275-5e61968c014d"
      },
      "execution_count": 21,
      "outputs": [
        {
          "output_type": "stream",
          "name": "stdout",
          "text": [
            "+--------------------+-------------+--------------------+--------------------+-----------------------+-----+-------------+----+-----+\n",
            "|            order_id|order_item_id|          product_id|           seller_id|shipping_limit_datetime|price|freight_value|year|month|\n",
            "+--------------------+-------------+--------------------+--------------------+-----------------------+-----+-------------+----+-----+\n",
            "|00010242fe8c5a6d1...|            1|4244733e06e7ecb49...|48436dade18ac8b2b...|    2017-09-19 09:45:35| 58.9|        13.29|2017|    9|\n",
            "+--------------------+-------------+--------------------+--------------------+-----------------------+-----+-------------+----+-----+\n",
            "\n",
            "+--------------------+-------------+--------------------+--------------------+-----------------------+-----+-------------+----+-----+\n",
            "|            order_id|order_item_id|          product_id|           seller_id|shipping_limit_datetime|price|freight_value|year|month|\n",
            "+--------------------+-------------+--------------------+--------------------+-----------------------+-----+-------------+----+-----+\n",
            "|00010242fe8c5a6d1...|            1|4244733e06e7ecb49...|48436dade18ac8b2b...|    2017-09-19 09:45:35| 58.9|        13.29|2017|    9|\n",
            "|00018f77f2f0320c5...|            1|e5f2d52b802189ee6...|dd7ddc04e1b6c2c61...|    2017-05-03 11:05:13|239.9|        19.93|2017|    5|\n",
            "+--------------------+-------------+--------------------+--------------------+-----------------------+-----+-------------+----+-----+\n",
            "\n",
            "+--------------------+-------------+--------------------+--------------------+-----------------------+-----+-------------+----+-----+\n",
            "|            order_id|order_item_id|          product_id|           seller_id|shipping_limit_datetime|price|freight_value|year|month|\n",
            "+--------------------+-------------+--------------------+--------------------+-----------------------+-----+-------------+----+-----+\n",
            "|363524b17966c3a64...|            2|43ee88561093499d9...|23613d49c3ac2bd30...|    2018-05-24 22:35:14| 10.9|          3.8|2018|    5|\n",
            "|1d9609dad08db33f3...|            1|7cc67695a7648efc5...|95e03ca3d4146e401...|    2017-12-11 18:10:31|29.99|          8.9|2017|   12|\n",
            "|50aff4b82439e01c5...|            1|ec1faa2edc27ce323...|cc419e0650a3c5ba7...|    2017-11-23 21:53:21|29.99|         7.78|2017|   11|\n",
            "|37ee401157a3a0b28...|            9|d34c07a2d817ac73f...|e7d5b006eb624f130...|    2018-04-19 02:30:52|29.99|         7.39|2018|    4|\n",
            "|8f5fac100b291e3c7...|            1|0e996644bf2835621...|b4ffb71f0cb1b1c3d...|    2017-12-08 09:13:27| 6.84|         7.78|2017|   12|\n",
            "+--------------------+-------------+--------------------+--------------------+-----------------------+-----+-------------+----+-----+\n",
            "only showing top 5 rows\n",
            "\n",
            "+--------------------+-------------+--------------------+--------------------+-----------------------+-----+-------------+----+-----+\n",
            "|            order_id|order_item_id|          product_id|           seller_id|shipping_limit_datetime|price|freight_value|year|month|\n",
            "+--------------------+-------------+--------------------+--------------------+-----------------------+-----+-------------+----+-----+\n",
            "|363524b17966c3a64...|            2|43ee88561093499d9...|23613d49c3ac2bd30...|    2018-05-24 22:35:14| 10.9|          3.8|2018|    5|\n",
            "|1d9609dad08db33f3...|            1|7cc67695a7648efc5...|95e03ca3d4146e401...|    2017-12-11 18:10:31|29.99|          8.9|2017|   12|\n",
            "|50aff4b82439e01c5...|            1|ec1faa2edc27ce323...|cc419e0650a3c5ba7...|    2017-11-23 21:53:21|29.99|         7.78|2017|   11|\n",
            "|37ee401157a3a0b28...|            9|d34c07a2d817ac73f...|e7d5b006eb624f130...|    2018-04-19 02:30:52|29.99|         7.39|2018|    4|\n",
            "|8f5fac100b291e3c7...|            1|0e996644bf2835621...|b4ffb71f0cb1b1c3d...|    2017-12-08 09:13:27| 6.84|         7.78|2017|   12|\n",
            "+--------------------+-------------+--------------------+--------------------+-----------------------+-----+-------------+----+-----+\n",
            "only showing top 5 rows\n",
            "\n"
          ]
        }
      ]
    },
    {
      "cell_type": "code",
      "source": [
        "# Example for drop duplicates on multiple columns\n",
        "\n",
        "df5.drop(\"month\").show(5)"
      ],
      "metadata": {
        "colab": {
          "base_uri": "https://localhost:8080/"
        },
        "id": "yZVgr-52wUSc",
        "outputId": "fbeecd79-989b-44c5-b74c-e28f3305f770"
      },
      "execution_count": 22,
      "outputs": [
        {
          "output_type": "stream",
          "name": "stdout",
          "text": [
            "+--------------------+-------------+--------------------+--------------------+-----------------------+------+-------------+----+\n",
            "|            order_id|order_item_id|          product_id|           seller_id|shipping_limit_datetime| price|freight_value|year|\n",
            "+--------------------+-------------+--------------------+--------------------+-----------------------+------+-------------+----+\n",
            "|1e1bb536916a99649...|            2|0288f8dd74b931b4e...|1da3aeb70d7989d1e...|    2017-09-05 12:10:11| 49.99|        21.15|2017|\n",
            "|62a0e822dd605871a...|            1|31dbb0d1815bdc83c...|6da1992f915d77be9...|    2017-06-08 11:50:18|  29.0|        15.79|2017|\n",
            "|025c72e88fbf2358b...|            2|bef21943bc2335188...|e49c26c3edfa46d22...|    2017-03-21 21:24:27|  19.9|         20.8|2017|\n",
            "|23d16dddab46fd3d0...|            1|cca8e09ba6f2d35e4...|43f8c9950d11ecd03...|    2018-01-31 22:17:51|109.99|        14.52|2018|\n",
            "|71c0d1686c9b55563...|            2|eb6c2ecde53034fc9...|1025f0e2d44d7041d...|    2017-12-01 19:31:45| 32.99|        16.11|2017|\n",
            "+--------------------+-------------+--------------------+--------------------+-----------------------+------+-------------+----+\n",
            "only showing top 5 rows\n",
            "\n"
          ]
        }
      ]
    },
    {
      "cell_type": "code",
      "source": [
        "# drop duplicates row based on multiple columns\n",
        "df5.dropDuplicates(['order_id','order_item_id']).show(5)"
      ],
      "metadata": {
        "colab": {
          "base_uri": "https://localhost:8080/"
        },
        "id": "cNIlaYB3xC0P",
        "outputId": "9c61c36a-fc51-4bb3-893d-8b3625eb5735"
      },
      "execution_count": 23,
      "outputs": [
        {
          "output_type": "stream",
          "name": "stdout",
          "text": [
            "+--------------------+-------------+--------------------+--------------------+-----------------------+------+-------------+----+-----+\n",
            "|            order_id|order_item_id|          product_id|           seller_id|shipping_limit_datetime| price|freight_value|year|month|\n",
            "+--------------------+-------------+--------------------+--------------------+-----------------------+------+-------------+----+-----+\n",
            "|00018f77f2f0320c5...|            1|e5f2d52b802189ee6...|dd7ddc04e1b6c2c61...|    2017-05-03 11:05:13| 239.9|        19.93|2017|    5|\n",
            "|00042b26cf59d7ce6...|            1|ac6c3623068f30de0...|df560393f3a51e745...|    2017-02-13 13:57:51| 199.9|        18.14|2017|    2|\n",
            "|0005a1a1728c9d785...|            1|310ae3c140ff94b03...|a416b6a846a117243...|    2018-03-26 18:31:29|145.95|        11.65|2018|    3|\n",
            "|00061f2a7bc09da83...|            1|d63c1011f49d98b97...|cc419e0650a3c5ba7...|    2018-03-29 22:28:09| 59.99|         8.88|2018|    3|\n",
            "|00063b381e2406b52...|            1|f177554ea93259a5b...|8602a61d680a10a82...|    2018-07-31 17:30:39|  45.0|        12.98|2018|    7|\n",
            "+--------------------+-------------+--------------------+--------------------+-----------------------+------+-------------+----+-----+\n",
            "only showing top 5 rows\n",
            "\n"
          ]
        }
      ]
    },
    {
      "cell_type": "code",
      "source": [
        "# get distinct rows\n",
        "df5.distinct().show(5)\n",
        "\n",
        "df5.dropDuplicates().show(5)"
      ],
      "metadata": {
        "colab": {
          "base_uri": "https://localhost:8080/"
        },
        "id": "pc0ojMOyxWXC",
        "outputId": "69aad51c-a5b5-48f8-941f-71c9e4c9ba63"
      },
      "execution_count": 24,
      "outputs": [
        {
          "output_type": "stream",
          "name": "stdout",
          "text": [
            "+--------------------+-------------+--------------------+--------------------+-----------------------+-----+-------------+----+-----+\n",
            "|            order_id|order_item_id|          product_id|           seller_id|shipping_limit_datetime|price|freight_value|year|month|\n",
            "+--------------------+-------------+--------------------+--------------------+-----------------------+-----+-------------+----+-----+\n",
            "|9459fe4630e1165c1...|            2|8db00478f9801fc2f...|8a32e327fe2c1b351...|    2017-11-28 10:51:06|12.99|         9.34|2017|   11|\n",
            "|3fb11bd2ea68c2502...|            1|f908d3bf313a1308b...|25e6ffe976bd75618...|    2017-12-07 13:11:22| 35.0|        11.85|2017|   12|\n",
            "|18ed848509774f56c...|            1|309dd69eb83cea38c...|0b35c634521043bf4...|    2018-02-09 13:30:39|49.99|         15.1|2018|    2|\n",
            "|0f3f4f23f10a3e4ef...|            1|bb42f37fc3d9130e4...|da8622b14eb17ae28...|    2018-04-12 19:09:20| 44.9|        18.23|2018|    4|\n",
            "|9b482241f75217c3e...|            1|74706845a60b5ad45...|f5a590cf36251cf11...|    2017-11-22 02:46:43|899.0|        54.82|2017|   11|\n",
            "+--------------------+-------------+--------------------+--------------------+-----------------------+-----+-------------+----+-----+\n",
            "only showing top 5 rows\n",
            "\n",
            "+--------------------+-------------+--------------------+--------------------+-----------------------+-----+-------------+----+-----+\n",
            "|            order_id|order_item_id|          product_id|           seller_id|shipping_limit_datetime|price|freight_value|year|month|\n",
            "+--------------------+-------------+--------------------+--------------------+-----------------------+-----+-------------+----+-----+\n",
            "|9459fe4630e1165c1...|            2|8db00478f9801fc2f...|8a32e327fe2c1b351...|    2017-11-28 10:51:06|12.99|         9.34|2017|   11|\n",
            "|3fb11bd2ea68c2502...|            1|f908d3bf313a1308b...|25e6ffe976bd75618...|    2017-12-07 13:11:22| 35.0|        11.85|2017|   12|\n",
            "|18ed848509774f56c...|            1|309dd69eb83cea38c...|0b35c634521043bf4...|    2018-02-09 13:30:39|49.99|         15.1|2018|    2|\n",
            "|0f3f4f23f10a3e4ef...|            1|bb42f37fc3d9130e4...|da8622b14eb17ae28...|    2018-04-12 19:09:20| 44.9|        18.23|2018|    4|\n",
            "|9b482241f75217c3e...|            1|74706845a60b5ad45...|f5a590cf36251cf11...|    2017-11-22 02:46:43|899.0|        54.82|2017|   11|\n",
            "+--------------------+-------------+--------------------+--------------------+-----------------------+-----+-------------+----+-----+\n",
            "only showing top 5 rows\n",
            "\n"
          ]
        }
      ]
    },
    {
      "cell_type": "code",
      "source": [
        "# arrange data using order by\n",
        "\n",
        "df5.orderBy(col(\"price\").desc()).show(5)\n",
        "\n",
        "df5.orderBy(col(\"price\").asc(),col(\"freight_value\").desc()).show(5)"
      ],
      "metadata": {
        "colab": {
          "base_uri": "https://localhost:8080/"
        },
        "id": "0-yYt-a7WsOd",
        "outputId": "f0e097f8-7d27-408d-fa2d-6a03d86fd6f9"
      },
      "execution_count": 26,
      "outputs": [
        {
          "output_type": "stream",
          "name": "stdout",
          "text": [
            "+--------------------+-------------+--------------------+--------------------+-----------------------+------+-------------+----+-----+\n",
            "|            order_id|order_item_id|          product_id|           seller_id|shipping_limit_datetime| price|freight_value|year|month|\n",
            "+--------------------+-------------+--------------------+--------------------+-----------------------+------+-------------+----+-----+\n",
            "|0812eb902a67711a1...|            1|489ae2aa008f02150...|e3b4998c7a498169d...|    2017-02-16 20:37:36|6735.0|       194.31|2017|    2|\n",
            "|fefacc66af859508b...|            1|69c590f7ffc7bf8db...|80ceebb4ee9b31afb...|    2018-08-02 04:05:13|6729.0|       193.21|2018|    8|\n",
            "|f5136e38d1a14a4db...|            1|1bdf5e6731585cf01...|ee27a8f15b1dded4d...|    2017-06-15 02:45:17|6499.0|       227.66|2017|    6|\n",
            "|a96610ab360d42a2e...|            1|a6492cc69376c469a...|59417c56835dd8e2e...|    2017-04-18 13:25:18|4799.0|       151.34|2017|    4|\n",
            "|199af31afc78c699f...|            1|c3ed642d592594bb6...|59417c56835dd8e2e...|    2017-05-09 15:50:15|4690.0|        74.34|2017|    5|\n",
            "+--------------------+-------------+--------------------+--------------------+-----------------------+------+-------------+----+-----+\n",
            "only showing top 5 rows\n",
            "\n",
            "+--------------------+-------------+--------------------+--------------------+-----------------------+-----+-------------+----+-----+\n",
            "|            order_id|order_item_id|          product_id|           seller_id|shipping_limit_datetime|price|freight_value|year|month|\n",
            "+--------------------+-------------+--------------------+--------------------+-----------------------+-----+-------------+----+-----+\n",
            "|c5bdd8ef3c0ec4202...|            2|8a3254bee785a526d...|96804ea39d96eb908...|    2018-05-07 02:55:22| 0.85|         22.3|2018|    5|\n",
            "|6e864b3f0ec710311...|            1|8a3254bee785a526d...|96804ea39d96eb908...|    2018-05-02 20:30:34| 0.85|        18.23|2018|    5|\n",
            "|3ee6513ae7ea23bdf...|            1|8a3254bee785a526d...|96804ea39d96eb908...|    2018-05-04 03:55:26| 0.85|        18.23|2018|    5|\n",
            "|8272b63d03f5f79c5...|            1|270516a3f41dc035a...|2709af9587499e95e...|    2017-07-21 18:25:23|  1.2|         7.89|2017|    7|\n",
            "|8272b63d03f5f79c5...|            4|05b515fdc76e888aa...|2709af9587499e95e...|    2017-07-21 18:25:23|  1.2|         7.89|2017|    7|\n",
            "+--------------------+-------------+--------------------+--------------------+-----------------------+-----+-------------+----+-----+\n",
            "only showing top 5 rows\n",
            "\n"
          ]
        }
      ]
    },
    {
      "cell_type": "code",
      "source": [
        "# GroupBy Operations\n",
        "\n",
        "# On single column\n",
        "df5.groupBy(\"year\").agg(count('*').alias(\"toal_count\"),\\\n",
        "                        avg(\"price\").alias(\"avg_price\"),\\\n",
        "                        sum(\"price\").alias(\"sum_price\"),\\\n",
        "                        min(\"price\").alias(\"min_price\"),\\\n",
        "                        max(\"price\").alias(\"max_price\")).show(5)\n",
        "\n",
        "# On multiple columns\n",
        "df5.groupBy(\"year\",\"month\").agg(count('*').alias(\"total_count\"),\\\n",
        "                                avg(\"price\").alias(\"avg_price\"),\\\n",
        "                                sum(\"price\").alias(\"sum_price\"),\\\n",
        "                                min(\"price\").alias(\"min_price\"),\\\n",
        "                                max(\"price\").alias(\"max_price\")\n",
        "                                ).orderBy(col(\"year\").asc(),col(\"month\").asc()).show(5)"
      ],
      "metadata": {
        "colab": {
          "base_uri": "https://localhost:8080/"
        },
        "id": "SV0acbLNYPyd",
        "outputId": "6884a6c2-2045-4d9c-aadd-0c3410d08351"
      },
      "execution_count": 29,
      "outputs": [
        {
          "output_type": "stream",
          "name": "stdout",
          "text": [
            "+----+----------+------------------+-----------------+---------+---------+\n",
            "|year|toal_count|         avg_price|        sum_price|min_price|max_price|\n",
            "+----+----------+------------------+-----------------+---------+---------+\n",
            "|2018|     62511|120.08515685239729|7506643.240000207|     0.85|   6729.0|\n",
            "|2016|       370|134.55654054054054|         49785.92|      6.0|   1399.0|\n",
            "|2017|     49765|121.26732804179925| 6034868.58000014|      1.2|   6735.0|\n",
            "|2020|         4|             86.49|           345.96|    69.99|    99.99|\n",
            "+----+----------+------------------+-----------------+---------+---------+\n",
            "\n",
            "+----+-----+-----------+------------------+------------------+---------+---------+\n",
            "|year|month|total_count|         avg_price|         sum_price|min_price|max_price|\n",
            "+----+-----+-----------+------------------+------------------+---------+---------+\n",
            "|2016|    9|          4| 48.61750000000001|194.47000000000003|    44.99|     59.5|\n",
            "|2016|   10|        365|135.83712328767123|49580.549999999996|      6.0|   1399.0|\n",
            "|2016|   12|          1|              10.9|              10.9|     10.9|     10.9|\n",
            "|2017|    1|        681|117.65747430249625| 80124.73999999995|      2.9|   1999.0|\n",
            "|2017|    2|       1866| 131.8231564844589|245982.01000000033|      3.9|   6735.0|\n",
            "+----+-----+-----------+------------------+------------------+---------+---------+\n",
            "only showing top 5 rows\n",
            "\n"
          ]
        }
      ]
    },
    {
      "cell_type": "code",
      "source": [
        "# fill missing data with default value\n",
        "df5.fillna({\"price\":0,\"freight_value\":0}).orderBy(col(\"freight_value\").asc()).show(5)"
      ],
      "metadata": {
        "colab": {
          "base_uri": "https://localhost:8080/"
        },
        "id": "rF1HVvdjaHIw",
        "outputId": "edcc8fb2-2aeb-4516-8211-67192fe61a91"
      },
      "execution_count": 32,
      "outputs": [
        {
          "output_type": "stream",
          "name": "stdout",
          "text": [
            "+--------------------+-------------+--------------------+--------------------+-----------------------+-----+-------------+----+-----+\n",
            "|            order_id|order_item_id|          product_id|           seller_id|shipping_limit_datetime|price|freight_value|year|month|\n",
            "+--------------------+-------------+--------------------+--------------------+-----------------------+-----+-------------+----+-----+\n",
            "|97d6279a91ffe03ed...|            1|422879e10f4668299...|1f50f920176fa81da...|    2018-05-11 17:30:06| 53.9|          0.0|2018|    5|\n",
            "|4296bf3920be4eaa2...|            2|53b36df67ebb7c415...|7d13fca1522535862...|    2018-05-14 20:55:00| 99.9|          0.0|2018|    5|\n",
            "|2cacbc4da6d979f44...|            1|53b36df67ebb7c415...|7d13fca1522535862...|    2018-05-11 20:30:39| 99.9|          0.0|2018|    5|\n",
            "|185a17e610fa1a503...|            1|aca2eb7d00ea1a7b8...|955fee9216a65b617...|    2018-04-25 13:10:39| 69.9|          0.0|2018|    4|\n",
            "|04105b54650921ca3...|            1|aca2eb7d00ea1a7b8...|955fee9216a65b617...|    2018-04-27 09:31:35| 69.9|          0.0|2018|    4|\n",
            "+--------------------+-------------+--------------------+--------------------+-----------------------+-----+-------------+----+-----+\n",
            "only showing top 5 rows\n",
            "\n"
          ]
        }
      ]
    },
    {
      "cell_type": "code",
      "source": [
        "accum = spark.sparkContext.accumulator(0)\n",
        "\n",
        "df5.foreach(lambda row: accum.add(row['price']))\n",
        "print(accum.value) # Accessed by driver"
      ],
      "metadata": {
        "colab": {
          "base_uri": "https://localhost:8080/"
        },
        "id": "JnmC_GB1fpDW",
        "outputId": "62ed314b-2d76-4214-b875-bb622bc2a2ae"
      },
      "execution_count": 33,
      "outputs": [
        {
          "output_type": "stream",
          "name": "stdout",
          "text": [
            "13591643.699999437\n"
          ]
        }
      ]
    },
    {
      "cell_type": "code",
      "source": [
        "# Case-When statement in\n",
        "\n",
        "df5.withColumn(\"price_category\", when(col(\"price\") >= 100,\"High\")\\\n",
        "               .when((col(\"price\") < 100) & (col(\"price\") >= 50), \"Medium\")\\\n",
        "                .otherwise(\"Low\")).show(5)"
      ],
      "metadata": {
        "colab": {
          "base_uri": "https://localhost:8080/"
        },
        "id": "m5clxtUkgl6F",
        "outputId": "35a21252-5b20-410d-a547-a143691f536c"
      },
      "execution_count": 36,
      "outputs": [
        {
          "output_type": "stream",
          "name": "stdout",
          "text": [
            "+--------------------+-------------+--------------------+--------------------+-----------------------+------+-------------+----+-----+--------------+\n",
            "|            order_id|order_item_id|          product_id|           seller_id|shipping_limit_datetime| price|freight_value|year|month|price_category|\n",
            "+--------------------+-------------+--------------------+--------------------+-----------------------+------+-------------+----+-----+--------------+\n",
            "|1e1bb536916a99649...|            2|0288f8dd74b931b4e...|1da3aeb70d7989d1e...|    2017-09-05 12:10:11| 49.99|        21.15|2017|    9|           Low|\n",
            "|62a0e822dd605871a...|            1|31dbb0d1815bdc83c...|6da1992f915d77be9...|    2017-06-08 11:50:18|  29.0|        15.79|2017|    6|           Low|\n",
            "|025c72e88fbf2358b...|            2|bef21943bc2335188...|e49c26c3edfa46d22...|    2017-03-21 21:24:27|  19.9|         20.8|2017|    3|           Low|\n",
            "|23d16dddab46fd3d0...|            1|cca8e09ba6f2d35e4...|43f8c9950d11ecd03...|    2018-01-31 22:17:51|109.99|        14.52|2018|    1|          High|\n",
            "|71c0d1686c9b55563...|            2|eb6c2ecde53034fc9...|1025f0e2d44d7041d...|    2017-12-01 19:31:45| 32.99|        16.11|2017|   12|           Low|\n",
            "+--------------------+-------------+--------------------+--------------------+-----------------------+------+-------------+----+-----+--------------+\n",
            "only showing top 5 rows\n",
            "\n"
          ]
        }
      ]
    },
    {
      "cell_type": "code",
      "source": [
        "# Window functions\n",
        "\n",
        "from pyspark.sql.window import Window\n",
        "\n",
        "windowSpec1 = Window.partitionBy(\"year\").orderBy(col(\"price\").asc())\n",
        "df5.withColumn(\"dense_rank\",dense_rank().over(windowSpec1)).show(5)\n",
        "\n",
        "windowSpec2 = Window.partitionBy(\"year\").orderBy(col(\"shipping_limit_datetime\").asc())\n",
        "df5.withColumn(\"running_sum\",sum(\"price\").over(windowSpec2)).show(5)"
      ],
      "metadata": {
        "colab": {
          "base_uri": "https://localhost:8080/"
        },
        "id": "DVHMfosiheel",
        "outputId": "5c35d398-3cdc-48f6-bb23-5f5b4c0b8195"
      },
      "execution_count": 38,
      "outputs": [
        {
          "output_type": "stream",
          "name": "stdout",
          "text": [
            "+--------------------+-------------+--------------------+--------------------+-----------------------+-----+-------------+----+-----+----------+\n",
            "|            order_id|order_item_id|          product_id|           seller_id|shipping_limit_datetime|price|freight_value|year|month|dense_rank|\n",
            "+--------------------+-------------+--------------------+--------------------+-----------------------+-----+-------------+----+-----+----------+\n",
            "|3ee6513ae7ea23bdf...|            1|8a3254bee785a526d...|96804ea39d96eb908...|    2018-05-04 03:55:26| 0.85|        18.23|2018|    5|         1|\n",
            "|6e864b3f0ec710311...|            1|8a3254bee785a526d...|96804ea39d96eb908...|    2018-05-02 20:30:34| 0.85|        18.23|2018|    5|         1|\n",
            "|c5bdd8ef3c0ec4202...|            2|8a3254bee785a526d...|96804ea39d96eb908...|    2018-05-07 02:55:22| 0.85|         22.3|2018|    5|         1|\n",
            "|f1d5c2e6867fa93ce...|            1|46fce52cef5caa7cc...|2d2322d8421188677...|    2018-08-28 21:30:15|  2.2|         7.39|2018|    8|         2|\n",
            "|de03f4f4bb610147a...|            1|2e8316b31db34314f...|9d7a1d34a50524090...|    2018-02-08 00:55:32| 2.99|        11.85|2018|    2|         3|\n",
            "+--------------------+-------------+--------------------+--------------------+-----------------------+-----+-------------+----+-----+----------+\n",
            "only showing top 5 rows\n",
            "\n",
            "+--------------------+-------------+--------------------+--------------------+-----------------------+------+-------------+----+-----+------------------+\n",
            "|            order_id|order_item_id|          product_id|           seller_id|shipping_limit_datetime| price|freight_value|year|month|       running_sum|\n",
            "+--------------------+-------------+--------------------+--------------------+-----------------------+------+-------------+----+-----+------------------+\n",
            "|b2d1902261f105c5c...|            1|5ed3835ea6f96c77b...|aba1721a889e04dec...|    2018-01-01 22:08:31| 139.0|         8.23|2018|    1|             139.0|\n",
            "|3c8e80909dd1066fd...|            1|4308439e0d80d5fe0...|59fb871bf6f4522a8...|    2018-01-01 22:13:24|179.99|         27.8|2018|    1|            318.99|\n",
            "|f2e5bcbd102cd01f1...|            1|2bb3e85f2a403543f...|76d64c4aca3a7baf2...|    2018-01-01 22:27:15| 348.9|       118.06|2018|    1|            667.89|\n",
            "|2e7080c8c24e4a977...|            1|3bdc89e963c6651b8...|fffd5413c0700ac82...|    2018-01-01 22:30:19| 262.5|       115.49|2018|    1|            930.39|\n",
            "|43ac8d91a0749b176...|            1|8dad29b3b6c42d0b9...|4e922959ae960d389...|    2018-01-01 22:36:29| 129.0|        13.92|2018|    1|1059.3899999999999|\n",
            "+--------------------+-------------+--------------------+--------------------+-----------------------+------+-------------+----+-----+------------------+\n",
            "only showing top 5 rows\n",
            "\n"
          ]
        }
      ]
    },
    {
      "cell_type": "code",
      "source": [
        "# Sellers dataset\n",
        "s_df = spark.read.format(\"csv\").option(\"header\",\"true\").option(\"inferSchema\",\"true\").load(\"/content/sellers_dataset.csv\")\n",
        "\n",
        "# Print schema and data\n",
        "s_df.printSchema()\n",
        "s_df.show(5)"
      ],
      "metadata": {
        "colab": {
          "base_uri": "https://localhost:8080/"
        },
        "id": "HjgKogO7icer",
        "outputId": "00784e09-4b7e-4449-eb3c-e9f1487b00b1"
      },
      "execution_count": 40,
      "outputs": [
        {
          "output_type": "stream",
          "name": "stdout",
          "text": [
            "root\n",
            " |-- seller_id: string (nullable = true)\n",
            " |-- seller_zip_code_prefix: integer (nullable = true)\n",
            " |-- seller_city: string (nullable = true)\n",
            " |-- seller_state: string (nullable = true)\n",
            "\n",
            "+--------------------+----------------------+-----------------+------------+\n",
            "|           seller_id|seller_zip_code_prefix|      seller_city|seller_state|\n",
            "+--------------------+----------------------+-----------------+------------+\n",
            "|3442f8959a84dea7e...|                 13023|         campinas|          SP|\n",
            "|d1b65fc7debc3361e...|                 13844|       mogi guacu|          SP|\n",
            "|ce3ad9de960102d06...|                 20031|   rio de janeiro|          RJ|\n",
            "|c0f3eea2e14555b6f...|                  4195|        sao paulo|          SP|\n",
            "|51a04a8a6bdcb23de...|                 12914|braganca paulista|          SP|\n",
            "+--------------------+----------------------+-----------------+------------+\n",
            "only showing top 5 rows\n",
            "\n"
          ]
        }
      ]
    },
    {
      "cell_type": "code",
      "source": [
        "# Perform join\n",
        "\n",
        "result1 = df5.join(broadcast(s_df),df5.seller_id == s_df.seller_id,\"inner\").drop(s_df.seller_id)\n",
        "result1.show(5)"
      ],
      "metadata": {
        "colab": {
          "base_uri": "https://localhost:8080/"
        },
        "id": "7l16PRzOinCp",
        "outputId": "a8d862a8-1543-4b70-9343-b4da28f37a22"
      },
      "execution_count": 41,
      "outputs": [
        {
          "output_type": "stream",
          "name": "stdout",
          "text": [
            "+--------------------+-------------+--------------------+--------------------+-----------------------+------+-------------+----+-----+----------------------+-----------+------------+\n",
            "|            order_id|order_item_id|          product_id|           seller_id|shipping_limit_datetime| price|freight_value|year|month|seller_zip_code_prefix|seller_city|seller_state|\n",
            "+--------------------+-------------+--------------------+--------------------+-----------------------+------+-------------+----+-----+----------------------+-----------+------------+\n",
            "|1e1bb536916a99649...|            2|0288f8dd74b931b4e...|1da3aeb70d7989d1e...|    2017-09-05 12:10:11| 49.99|        21.15|2017|    9|                  4265|  sao paulo|          SP|\n",
            "|62a0e822dd605871a...|            1|31dbb0d1815bdc83c...|6da1992f915d77be9...|    2017-06-08 11:50:18|  29.0|        15.79|2017|    6|                  1026|  sao paulo|          SP|\n",
            "|025c72e88fbf2358b...|            2|bef21943bc2335188...|e49c26c3edfa46d22...|    2017-03-21 21:24:27|  19.9|         20.8|2017|    3|                 55325|     brejao|          PE|\n",
            "|23d16dddab46fd3d0...|            1|cca8e09ba6f2d35e4...|43f8c9950d11ecd03...|    2018-01-31 22:17:51|109.99|        14.52|2018|    1|                  6341|carapicuiba|          SP|\n",
            "|71c0d1686c9b55563...|            2|eb6c2ecde53034fc9...|1025f0e2d44d7041d...|    2017-12-01 19:31:45| 32.99|        16.11|2017|   12|                  3204|  sao paulo|          SP|\n",
            "+--------------------+-------------+--------------------+--------------------+-----------------------+------+-------------+----+-----+----------------------+-----------+------------+\n",
            "only showing top 5 rows\n",
            "\n"
          ]
        }
      ]
    },
    {
      "cell_type": "code",
      "source": [
        "# Perform join with alias names of dataframes\n",
        "\n",
        "result2 = df5.alias('oid').join(s_df.alias('sid'),col(\"oid.seller_id\")==col(\"sid.seller_id\"),\"inner\").drop(col(\"sid.seller_id\"))\n",
        "result2.show(5)"
      ],
      "metadata": {
        "colab": {
          "base_uri": "https://localhost:8080/"
        },
        "id": "Xn7pKHU-kWz_",
        "outputId": "11229d5c-af1e-4b76-a23a-285265390815"
      },
      "execution_count": 42,
      "outputs": [
        {
          "output_type": "stream",
          "name": "stdout",
          "text": [
            "+--------------------+-------------+--------------------+--------------------+-----------------------+------+-------------+----+-----+----------------------+-----------+------------+\n",
            "|            order_id|order_item_id|          product_id|           seller_id|shipping_limit_datetime| price|freight_value|year|month|seller_zip_code_prefix|seller_city|seller_state|\n",
            "+--------------------+-------------+--------------------+--------------------+-----------------------+------+-------------+----+-----+----------------------+-----------+------------+\n",
            "|1e1bb536916a99649...|            2|0288f8dd74b931b4e...|1da3aeb70d7989d1e...|    2017-09-05 12:10:11| 49.99|        21.15|2017|    9|                  4265|  sao paulo|          SP|\n",
            "|62a0e822dd605871a...|            1|31dbb0d1815bdc83c...|6da1992f915d77be9...|    2017-06-08 11:50:18|  29.0|        15.79|2017|    6|                  1026|  sao paulo|          SP|\n",
            "|025c72e88fbf2358b...|            2|bef21943bc2335188...|e49c26c3edfa46d22...|    2017-03-21 21:24:27|  19.9|         20.8|2017|    3|                 55325|     brejao|          PE|\n",
            "|23d16dddab46fd3d0...|            1|cca8e09ba6f2d35e4...|43f8c9950d11ecd03...|    2018-01-31 22:17:51|109.99|        14.52|2018|    1|                  6341|carapicuiba|          SP|\n",
            "|71c0d1686c9b55563...|            2|eb6c2ecde53034fc9...|1025f0e2d44d7041d...|    2017-12-01 19:31:45| 32.99|        16.11|2017|   12|                  3204|  sao paulo|          SP|\n",
            "+--------------------+-------------+--------------------+--------------------+-----------------------+------+-------------+----+-----+----------------------+-----------+------------+\n",
            "only showing top 5 rows\n",
            "\n"
          ]
        }
      ]
    },
    {
      "cell_type": "code",
      "source": [
        "# Work with spark SQL\n",
        "df5.createOrReplaceTempView(\"ORDER_ITEM\")\n",
        "s_df.createOrReplaceTempView(\"SELLERS\")\n",
        "\n",
        "\n",
        "joinDF2 = spark.sql(\"select * from ORDER_ITEM oid INNER JOIN SELLERS sid ON oid.seller_id == sid.seller_id\")"
      ],
      "metadata": {
        "id": "tY-fukahk4T5"
      },
      "execution_count": 47,
      "outputs": []
    },
    {
      "cell_type": "code",
      "source": [
        "# Write data without any partition key\n",
        "\n",
        "result1.write.format(\"csv\").option(\"header\",\"true\").option(\"delimiter\",\",\").save(\"/content/output/\")\n",
        "print(\"write Successfull\")"
      ],
      "metadata": {
        "colab": {
          "base_uri": "https://localhost:8080/"
        },
        "id": "TYNoosmpltcX",
        "outputId": "364e6e06-6770-400e-ee47-fdeb45098596"
      },
      "execution_count": 48,
      "outputs": [
        {
          "output_type": "stream",
          "name": "stdout",
          "text": [
            "write Successfull\n"
          ]
        }
      ]
    },
    {
      "cell_type": "code",
      "source": [
        "# Write data with partition key\n",
        "\n",
        "result1.write.partitionBy(\"year\").format(\"csv\").option(\"header\",\"true\").option(\"delimiter\",\",\").save(\"/content/output_withPartition/\")\n",
        "print(\"Write Successfull\")"
      ],
      "metadata": {
        "colab": {
          "base_uri": "https://localhost:8080/"
        },
        "id": "Yt6b_znImLGf",
        "outputId": "366df106-444c-4e08-8f90-db407afda398"
      },
      "execution_count": 49,
      "outputs": [
        {
          "output_type": "stream",
          "name": "stdout",
          "text": [
            "Write Successfull\n"
          ]
        }
      ]
    },
    {
      "cell_type": "code",
      "source": [
        "# Write data in single file\n",
        "result1.coalesce(1).write.format(\"csv\").option(\"header\",\"true\").option(\"delimiter\",\",\").save(\"/content/output_singleFile/\")\n",
        "print(\"Write Successfull\")"
      ],
      "metadata": {
        "colab": {
          "base_uri": "https://localhost:8080/"
        },
        "id": "QBHeMTKQmm-e",
        "outputId": "2927de8c-b9f1-45ce-d548-b3a31d799896"
      },
      "execution_count": 51,
      "outputs": [
        {
          "output_type": "stream",
          "name": "stdout",
          "text": [
            "Write Successfull\n"
          ]
        }
      ]
    },
    {
      "cell_type": "code",
      "source": [
        "# Create database\n",
        "\n",
        "spark.sql(\"CREATE SCHEMA IF NOT EXISTS tables_by_spark\")"
      ],
      "metadata": {
        "colab": {
          "base_uri": "https://localhost:8080/"
        },
        "id": "DYQ0G5mKoef1",
        "outputId": "f5cfcebe-583f-407e-ff19-583f6c5fc5b4"
      },
      "execution_count": 54,
      "outputs": [
        {
          "output_type": "execute_result",
          "data": {
            "text/plain": [
              "DataFrame[]"
            ]
          },
          "metadata": {},
          "execution_count": 54
        }
      ]
    },
    {
      "cell_type": "code",
      "source": [
        "# Write data in Hive directly\n",
        "\n",
        "spark.sql(\"\"\"set hive.exec.dynamic.partition.mode=nonstrict\"\"\")\n",
        "spark.sql(\"USE tables_by_spark\")\n",
        "\n",
        "# Create a partitioned Hive Table\n",
        "spark.sql(\"\"\"\n",
        "      CREATE TABLE IF NOT EXISTS order_sellers_data(\n",
        "        order_id STRING,\n",
        "        order_item_id INT,\n",
        "        product_id STRING,\n",
        "        price DOUBLE,\n",
        "        freight_value DOUBLE,\n",
        "        seller_city STRING\n",
        "      ) PARTITIONED BY (year INT)\n",
        "\"\"\")\n",
        "\n",
        "# Write Dataframe into Hive Table\n",
        "result1.select(\"order_id\",\"order_item_id\",\"product_id\",\"price\",\"freight_value\",\"seller_city\",\"year\").write.mode(\"append\").insertInto(\"order_sellers_data\")"
      ],
      "metadata": {
        "id": "l8BaVN0tnMXW"
      },
      "execution_count": 55,
      "outputs": []
    },
    {
      "cell_type": "code",
      "source": [
        "spark.sql(\"SELECT * FROM order_sellers_data LIMIT 5\").show()"
      ],
      "metadata": {
        "colab": {
          "base_uri": "https://localhost:8080/"
        },
        "id": "kFe-uz57ozul",
        "outputId": "c6ea7448-fb63-44f7-b3bb-c0e671942fbd"
      },
      "execution_count": 62,
      "outputs": [
        {
          "output_type": "stream",
          "name": "stdout",
          "text": [
            "+--------------------+-------------+--------------------+-----+-------------+-----------+----+\n",
            "|            order_id|order_item_id|          product_id|price|freight_value|seller_city|year|\n",
            "+--------------------+-------------+--------------------+-----+-------------+-----------+----+\n",
            "|13bdf405f961a6dee...|            1|96ea060e41bdecc64...|69.99|        14.66|  jacutinga|2020|\n",
            "|9c94a4ea2f7876660...|            1|282b126b2354516c5...|75.99|         14.7|  jacutinga|2020|\n",
            "|c2bb89b5c1dd978d5...|            2|87b92e06b320e803d...|99.99|        61.44|  jacutinga|2020|\n",
            "|c2bb89b5c1dd978d5...|            1|87b92e06b320e803d...|99.99|        61.44|  jacutinga|2020|\n",
            "|7559c51df991c6861...|            1|21fb5057dd6a737df...| 49.0|        20.49|   sorocaba|2016|\n",
            "+--------------------+-------------+--------------------+-----+-------------+-----------+----+\n",
            "\n"
          ]
        }
      ]
    }
  ]
}