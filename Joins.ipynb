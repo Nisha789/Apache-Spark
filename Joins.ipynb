{
  "nbformat": 4,
  "nbformat_minor": 0,
  "metadata": {
    "colab": {
      "provenance": [],
      "authorship_tag": "ABX9TyMAZ+y8+PDu8ait3DUQ9Zxz",
      "include_colab_link": true
    },
    "kernelspec": {
      "name": "python3",
      "display_name": "Python 3"
    },
    "language_info": {
      "name": "python"
    }
  },
  "cells": [
    {
      "cell_type": "markdown",
      "metadata": {
        "id": "view-in-github",
        "colab_type": "text"
      },
      "source": [
        "<a href=\"https://colab.research.google.com/github/Nisha789/Apache-Spark/blob/main/Joins.ipynb\" target=\"_parent\"><img src=\"https://colab.research.google.com/assets/colab-badge.svg\" alt=\"Open In Colab\"/></a>"
      ]
    },
    {
      "cell_type": "code",
      "execution_count": null,
      "metadata": {
        "colab": {
          "base_uri": "https://localhost:8080/"
        },
        "id": "2V9RmP7wnVPW",
        "outputId": "fba84080-8416-4f6a-a4df-e24ff830f5f7"
      },
      "outputs": [
        {
          "output_type": "stream",
          "name": "stdout",
          "text": [
            "Collecting pyspark\n",
            "  Downloading pyspark-3.5.1.tar.gz (317.0 MB)\n",
            "\u001b[2K     \u001b[90m━━━━━━━━━━━━━━━━━━━━━━━━━━━━━━━━━━━━━━━━\u001b[0m \u001b[32m317.0/317.0 MB\u001b[0m \u001b[31m2.3 MB/s\u001b[0m eta \u001b[36m0:00:00\u001b[0m\n",
            "\u001b[?25h  Preparing metadata (setup.py) ... \u001b[?25l\u001b[?25hdone\n",
            "Requirement already satisfied: py4j==0.10.9.7 in /usr/local/lib/python3.10/dist-packages (from pyspark) (0.10.9.7)\n",
            "Building wheels for collected packages: pyspark\n",
            "  Building wheel for pyspark (setup.py) ... \u001b[?25l\u001b[?25hdone\n",
            "  Created wheel for pyspark: filename=pyspark-3.5.1-py2.py3-none-any.whl size=317488491 sha256=e298032d86c91ce86cf4eca8d851e4abf9a3b4ef37d1beb36962e852809da250\n",
            "  Stored in directory: /root/.cache/pip/wheels/80/1d/60/2c256ed38dddce2fdd93be545214a63e02fbd8d74fb0b7f3a6\n",
            "Successfully built pyspark\n",
            "Installing collected packages: pyspark\n",
            "Successfully installed pyspark-3.5.1\n"
          ]
        }
      ],
      "source": [
        "!pip install pyspark"
      ]
    },
    {
      "cell_type": "code",
      "source": [
        "from pyspark.sql import SparkSession"
      ],
      "metadata": {
        "id": "SmSSCT9woZlh"
      },
      "execution_count": null,
      "outputs": []
    },
    {
      "cell_type": "code",
      "source": [
        "spark = SparkSession.builder \\\n",
        "        .appName(\"Spark_Colab\")\\\n",
        "        .getOrCreate()"
      ],
      "metadata": {
        "id": "XbOfYlVTohCi"
      },
      "execution_count": null,
      "outputs": []
    },
    {
      "cell_type": "code",
      "source": [
        "spark"
      ],
      "metadata": {
        "colab": {
          "base_uri": "https://localhost:8080/",
          "height": 219
        },
        "id": "TWf5qmaVozMt",
        "outputId": "a9c41b7f-d993-4458-8b8d-6c3b07c4db3b"
      },
      "execution_count": null,
      "outputs": [
        {
          "output_type": "execute_result",
          "data": {
            "text/plain": [
              "<pyspark.sql.session.SparkSession at 0x7e6aabe308e0>"
            ],
            "text/html": [
              "\n",
              "            <div>\n",
              "                <p><b>SparkSession - in-memory</b></p>\n",
              "                \n",
              "        <div>\n",
              "            <p><b>SparkContext</b></p>\n",
              "\n",
              "            <p><a href=\"http://dc1e03044313:4040\">Spark UI</a></p>\n",
              "\n",
              "            <dl>\n",
              "              <dt>Version</dt>\n",
              "                <dd><code>v3.5.1</code></dd>\n",
              "              <dt>Master</dt>\n",
              "                <dd><code>local[*]</code></dd>\n",
              "              <dt>AppName</dt>\n",
              "                <dd><code>Spark_Colab</code></dd>\n",
              "            </dl>\n",
              "        </div>\n",
              "        \n",
              "            </div>\n",
              "        "
            ]
          },
          "metadata": {},
          "execution_count": 6
        }
      ]
    },
    {
      "cell_type": "code",
      "source": [
        "person = spark.createDataFrame([\n",
        "    (0,\"Bill Chambers\",0,[100]),\n",
        "    (1,\"Matei Zaharia\",1,[500,250,100]),\n",
        "    (2,\"Michael Armbrust\",3,[250,100])\n",
        "]).toDF(\"id\",\"name\",\"graduate_program\",\"spark_status\")"
      ],
      "metadata": {
        "id": "hb64G_l6o4I3"
      },
      "execution_count": null,
      "outputs": []
    },
    {
      "cell_type": "code",
      "source": [
        "person.show()"
      ],
      "metadata": {
        "colab": {
          "base_uri": "https://localhost:8080/"
        },
        "id": "2YyVMwRypywq",
        "outputId": "afab7db6-6057-4d74-9ed6-f39c1e1fd264"
      },
      "execution_count": null,
      "outputs": [
        {
          "output_type": "stream",
          "name": "stdout",
          "text": [
            "+---+----------------+----------------+---------------+\n",
            "| id|            name|graduate_program|   spark_status|\n",
            "+---+----------------+----------------+---------------+\n",
            "|  0|   Bill Chambers|               0|          [100]|\n",
            "|  1|   Matei Zaharia|               1|[500, 250, 100]|\n",
            "|  2|Michael Armbrust|               1|     [250, 100]|\n",
            "+---+----------------+----------------+---------------+\n",
            "\n"
          ]
        }
      ]
    },
    {
      "cell_type": "code",
      "source": [
        "person = spark.createDataFrame([\n",
        "  (0, \"Bill Chambers\", 0, [100]),\n",
        "  (1, \"Matei Zaharia\", 1, [500, 250, 100]),\n",
        "  (2, \"Michael Armbrust\", 1, [250, 100])])\\\n",
        ".toDF(\"id\", \"name\", \"graduate_program\", \"spark_status\")\n",
        "\n",
        "graduateProgram = spark.createDataFrame([\n",
        "  (0, \"Masters\", \"School of Information\", \"UC Berkeley\"),\n",
        "  (2, \"Masters\", \"EECS\", \"UC Berkeley\"),\n",
        "  (1, \"Ph.D.\", \"EECS\", \"UC Berkeley\")])\\\n",
        ".toDF(\"id\", \"degree\", \"department\", \"school\")\n",
        "\n",
        "sparkStatus = spark.createDataFrame([\n",
        "  (500, \"Vice President\"),\n",
        "  (250, \"PMC Member\"),\n",
        "  (100, \"Contributor\")])\\\n",
        ".toDF(\"id\", \"status\")"
      ],
      "metadata": {
        "id": "tKJojwuUp3Gp"
      },
      "execution_count": null,
      "outputs": []
    },
    {
      "cell_type": "code",
      "source": [
        "person.show()\n",
        "graduateProgram.show()\n",
        "sparkStatus.show()"
      ],
      "metadata": {
        "colab": {
          "base_uri": "https://localhost:8080/"
        },
        "id": "9nEEctkIp9GK",
        "outputId": "a378f3e4-b8e3-4384-b77d-5963edc86600"
      },
      "execution_count": null,
      "outputs": [
        {
          "output_type": "stream",
          "name": "stdout",
          "text": [
            "+---+----------------+----------------+---------------+\n",
            "| id|            name|graduate_program|   spark_status|\n",
            "+---+----------------+----------------+---------------+\n",
            "|  0|   Bill Chambers|               0|          [100]|\n",
            "|  1|   Matei Zaharia|               1|[500, 250, 100]|\n",
            "|  2|Michael Armbrust|               3|     [250, 100]|\n",
            "+---+----------------+----------------+---------------+\n",
            "\n",
            "+---+-------+--------------------+-----------+\n",
            "| id| degree|          department|     school|\n",
            "+---+-------+--------------------+-----------+\n",
            "|  0|Masters|School of Informa...|UC Berkeley|\n",
            "|  2|Masters|                EECS|UC Berkeley|\n",
            "|  1|  Ph.D.|                EECS|UC Berkeley|\n",
            "+---+-------+--------------------+-----------+\n",
            "\n",
            "+---+--------------+\n",
            "| id|        status|\n",
            "+---+--------------+\n",
            "|500|Vice President|\n",
            "|250|    PMC Member|\n",
            "|100|   Contributor|\n",
            "+---+--------------+\n",
            "\n"
          ]
        }
      ]
    },
    {
      "cell_type": "code",
      "source": [
        "joinExpression = person[\"graduate_program\"] == graduateProgram[\"id\"]"
      ],
      "metadata": {
        "id": "NwMw6NvjqcbV"
      },
      "execution_count": null,
      "outputs": []
    },
    {
      "cell_type": "code",
      "source": [
        "# Inner Join - Default\n",
        "from pyspark.sql.functions import col\n",
        "person.join(graduateProgram,joinExpression).show()\n",
        "# .select(person[\"id\"],\"name\",\"degree\",graduateProgram[\"id\"])"
      ],
      "metadata": {
        "colab": {
          "base_uri": "https://localhost:8080/"
        },
        "id": "obRxt1SKqjjl",
        "outputId": "c784e0b4-73d7-4608-99f8-07ab4a7a64b1"
      },
      "execution_count": null,
      "outputs": [
        {
          "output_type": "stream",
          "name": "stdout",
          "text": [
            "+---+-------------+----------------+---------------+---+-------+--------------------+-----------+\n",
            "| id|         name|graduate_program|   spark_status| id| degree|          department|     school|\n",
            "+---+-------------+----------------+---------------+---+-------+--------------------+-----------+\n",
            "|  0|Bill Chambers|               0|          [100]|  0|Masters|School of Informa...|UC Berkeley|\n",
            "|  1|Matei Zaharia|               1|[500, 250, 100]|  1|  Ph.D.|                EECS|UC Berkeley|\n",
            "+---+-------------+----------------+---------------+---+-------+--------------------+-----------+\n",
            "\n"
          ]
        }
      ]
    },
    {
      "cell_type": "code",
      "source": [
        "# Outer Join - Evaluate expr - true or false - ok - for false, it put NULL\n",
        "joinType = \"outer\"\n",
        "person.join(graduateProgram,joinExpression,joinType).show()"
      ],
      "metadata": {
        "colab": {
          "base_uri": "https://localhost:8080/"
        },
        "id": "jYiuQ1igrqYt",
        "outputId": "b6497c98-a5a9-49cb-d454-cf461ff3341f"
      },
      "execution_count": null,
      "outputs": [
        {
          "output_type": "stream",
          "name": "stdout",
          "text": [
            "+----+----------------+----------------+---------------+----+-------+--------------------+-----------+\n",
            "|  id|            name|graduate_program|   spark_status|  id| degree|          department|     school|\n",
            "+----+----------------+----------------+---------------+----+-------+--------------------+-----------+\n",
            "|   0|   Bill Chambers|               0|          [100]|   0|Masters|School of Informa...|UC Berkeley|\n",
            "|   1|   Matei Zaharia|               1|[500, 250, 100]|   1|  Ph.D.|                EECS|UC Berkeley|\n",
            "|NULL|            NULL|            NULL|           NULL|   2|Masters|                EECS|UC Berkeley|\n",
            "|   2|Michael Armbrust|               3|     [250, 100]|NULL|   NULL|                NULL|       NULL|\n",
            "+----+----------------+----------------+---------------+----+-------+--------------------+-----------+\n",
            "\n"
          ]
        }
      ]
    },
    {
      "cell_type": "code",
      "source": [
        "joinType = \"left_outer\"\n",
        "person.join(graduateProgram, joinExpression, joinType).show()"
      ],
      "metadata": {
        "colab": {
          "base_uri": "https://localhost:8080/"
        },
        "id": "XNOmOBsEuQlm",
        "outputId": "dcfdede0-3c00-420d-a32e-3e74338f12e4"
      },
      "execution_count": null,
      "outputs": [
        {
          "output_type": "stream",
          "name": "stdout",
          "text": [
            "+---+----------------+----------------+---------------+----+-------+--------------------+-----------+\n",
            "| id|            name|graduate_program|   spark_status|  id| degree|          department|     school|\n",
            "+---+----------------+----------------+---------------+----+-------+--------------------+-----------+\n",
            "|  0|   Bill Chambers|               0|          [100]|   0|Masters|School of Informa...|UC Berkeley|\n",
            "|  1|   Matei Zaharia|               1|[500, 250, 100]|   1|  Ph.D.|                EECS|UC Berkeley|\n",
            "|  2|Michael Armbrust|               3|     [250, 100]|NULL|   NULL|                NULL|       NULL|\n",
            "+---+----------------+----------------+---------------+----+-------+--------------------+-----------+\n",
            "\n"
          ]
        }
      ]
    },
    {
      "cell_type": "code",
      "source": [
        "joinType = \"right_outer\"\n",
        "person.join(graduateProgram, joinExpression, joinType).show()"
      ],
      "metadata": {
        "colab": {
          "base_uri": "https://localhost:8080/"
        },
        "id": "NBchn29_uvkP",
        "outputId": "718e2d77-2c18-4d09-adf4-b2f43e3af8d5"
      },
      "execution_count": null,
      "outputs": [
        {
          "output_type": "stream",
          "name": "stdout",
          "text": [
            "+----+-------------+----------------+---------------+---+-------+--------------------+-----------+\n",
            "|  id|         name|graduate_program|   spark_status| id| degree|          department|     school|\n",
            "+----+-------------+----------------+---------------+---+-------+--------------------+-----------+\n",
            "|   0|Bill Chambers|               0|          [100]|  0|Masters|School of Informa...|UC Berkeley|\n",
            "|   1|Matei Zaharia|               1|[500, 250, 100]|  1|  Ph.D.|                EECS|UC Berkeley|\n",
            "|NULL|         NULL|            NULL|           NULL|  2|Masters|                EECS|UC Berkeley|\n",
            "+----+-------------+----------------+---------------+---+-------+--------------------+-----------+\n",
            "\n"
          ]
        }
      ]
    },
    {
      "cell_type": "code",
      "source": [
        "joinType = \"left_semi\"\n",
        "graduateProgram.join(person, joinExpression, joinType).show()"
      ],
      "metadata": {
        "colab": {
          "base_uri": "https://localhost:8080/"
        },
        "id": "e0Bu4_wVvPEd",
        "outputId": "3e7773e6-ae87-4047-f9b4-5c1dfe76cb5f"
      },
      "execution_count": null,
      "outputs": [
        {
          "output_type": "stream",
          "name": "stdout",
          "text": [
            "+---+-------+--------------------+-----------+\n",
            "| id| degree|          department|     school|\n",
            "+---+-------+--------------------+-----------+\n",
            "|  0|Masters|School of Informa...|UC Berkeley|\n",
            "|  1|  Ph.D.|                EECS|UC Berkeley|\n",
            "+---+-------+--------------------+-----------+\n",
            "\n"
          ]
        }
      ]
    },
    {
      "cell_type": "code",
      "source": [
        "joinType = \"left_anti\"\n",
        "graduateProgram.join(person, joinExpression, joinType).show()"
      ],
      "metadata": {
        "colab": {
          "base_uri": "https://localhost:8080/"
        },
        "id": "mMkhTksEvl0q",
        "outputId": "93645f14-cc69-486f-ecd7-4ab9972b798e"
      },
      "execution_count": null,
      "outputs": [
        {
          "output_type": "stream",
          "name": "stdout",
          "text": [
            "+---+-------+----------+-----------+\n",
            "| id| degree|department|     school|\n",
            "+---+-------+----------+-----------+\n",
            "|  2|Masters|      EECS|UC Berkeley|\n",
            "+---+-------+----------+-----------+\n",
            "\n"
          ]
        }
      ]
    },
    {
      "cell_type": "code",
      "source": [
        "joinType = \"cross\"\n",
        "graduateProgram.join(person, joinExpression, joinType).show()"
      ],
      "metadata": {
        "colab": {
          "base_uri": "https://localhost:8080/"
        },
        "id": "G2MNHiYCv5zX",
        "outputId": "a8c42ef2-af4e-44ed-b6d1-49648a2272d1"
      },
      "execution_count": null,
      "outputs": [
        {
          "output_type": "stream",
          "name": "stdout",
          "text": [
            "+---+-------+--------------------+-----------+---+----------------+----------------+---------------+\n",
            "| id| degree|          department|     school| id|            name|graduate_program|   spark_status|\n",
            "+---+-------+--------------------+-----------+---+----------------+----------------+---------------+\n",
            "|  0|Masters|School of Informa...|UC Berkeley|  0|   Bill Chambers|               0|          [100]|\n",
            "|  1|  Ph.D.|                EECS|UC Berkeley|  1|   Matei Zaharia|               1|[500, 250, 100]|\n",
            "|  1|  Ph.D.|                EECS|UC Berkeley|  2|Michael Armbrust|               1|     [250, 100]|\n",
            "+---+-------+--------------------+-----------+---+----------------+----------------+---------------+\n",
            "\n"
          ]
        }
      ]
    },
    {
      "cell_type": "code",
      "source": [
        "person.join(graduateProgram,joinExpression).explain()"
      ],
      "metadata": {
        "colab": {
          "base_uri": "https://localhost:8080/"
        },
        "id": "vU4hQP9uxQat",
        "outputId": "64e96f61-5237-41b7-ccf3-c006f55a7240"
      },
      "execution_count": null,
      "outputs": [
        {
          "output_type": "stream",
          "name": "stdout",
          "text": [
            "== Physical Plan ==\n",
            "AdaptiveSparkPlan isFinalPlan=false\n",
            "+- SortMergeJoin [graduate_program#1705L], [id#1719L], Inner\n",
            "   :- Sort [graduate_program#1705L ASC NULLS FIRST], false, 0\n",
            "   :  +- Exchange hashpartitioning(graduate_program#1705L, 200), ENSURE_REQUIREMENTS, [plan_id=3561]\n",
            "   :     +- Project [_1#1695L AS id#1703L, _2#1696 AS name#1704, _3#1697L AS graduate_program#1705L, _4#1698 AS spark_status#1706]\n",
            "   :        +- Filter isnotnull(_3#1697L)\n",
            "   :           +- Scan ExistingRDD[_1#1695L,_2#1696,_3#1697L,_4#1698]\n",
            "   +- Sort [id#1719L ASC NULLS FIRST], false, 0\n",
            "      +- Exchange hashpartitioning(id#1719L, 200), ENSURE_REQUIREMENTS, [plan_id=3562]\n",
            "         +- Project [_1#1711L AS id#1719L, _2#1712 AS degree#1720, _3#1713 AS department#1721, _4#1714 AS school#1722]\n",
            "            +- Filter isnotnull(_1#1711L)\n",
            "               +- Scan ExistingRDD[_1#1711L,_2#1712,_3#1713,_4#1714]\n",
            "\n",
            "\n"
          ]
        }
      ]
    }
  ]
}